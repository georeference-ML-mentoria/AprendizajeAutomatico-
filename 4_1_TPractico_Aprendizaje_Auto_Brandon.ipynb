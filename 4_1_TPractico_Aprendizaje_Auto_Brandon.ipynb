{
 "cells": [
  {
   "cell_type": "markdown",
   "metadata": {
    "id": "IRWQndQrG6nT"
   },
   "source": [
    "<center>\n",
    "<h4>Diplodatos 2020 - FaMAF - UNC</h4>\n",
    "<h1>Procesamiento de datos georeferenciados</h1>\n",
    "<h3>Aprendizaje Supervisado</h3>\n",
    "</center>"
   ]
  },
  {
   "cell_type": "markdown",
   "metadata": {
    "id": "cslNL1iOG6nV"
   },
   "source": [
    "### Introducción\n",
    "\n",
    "En el siguiente trabajo profundizaremos en el proceso de entrenamiento del modelo centrandonos en diferentes formas de seleccion de variables y tuning de hiperparametros.\n",
    "\n",
    "Para esto construiremos sobre el conocimiento obtenido de los practicos anteriores."
   ]
  },
  {
   "cell_type": "code",
   "execution_count": 1,
   "metadata": {},
   "outputs": [
    {
     "name": "stderr",
     "output_type": "stream",
     "text": [
      "/Users/brandonjanes/miniconda2/envs/inf/lib/python3.7/site-packages/sklearn/utils/deprecation.py:144: FutureWarning: The sklearn.metrics.classification module is  deprecated in version 0.22 and will be removed in version 0.24. The corresponding classes / functions should instead be imported from sklearn.metrics. Anything that cannot be imported from sklearn.metrics is now part of the private API.\n",
      "  warnings.warn(message, FutureWarning)\n"
     ]
    }
   ],
   "source": [
    "import datetime\n",
    "\n",
    "import matplotlib.pyplot as plt\n",
    "import numpy as np\n",
    "import pandas as pd\n",
    "import seaborn as sns\n",
    "import xgboost as xgb\n",
    "\n",
    "from sklearn.metrics import (\n",
    "    mean_absolute_error,\n",
    "    mean_squared_error,\n",
    "    r2_score,\n",
    ")\n",
    "from sklearn.model_selection import train_test_split\n",
    "\n",
    "from utils import (\n",
    "    display_evaluation_errors,\n",
    "    display_evaluation_table,\n",
    "    display_markdown,\n",
    "    show_qq_plot,\n",
    "    show_residuals_plot\n",
    ")"
   ]
  },
  {
   "cell_type": "markdown",
   "metadata": {
    "id": "UEt7u6VHG6nd"
   },
   "source": [
    "# Aprendizaje Automático Supervisado"
   ]
  },
  {
   "cell_type": "markdown",
   "metadata": {
    "id": "_LgIRJLHMQUb"
   },
   "source": [
    "## Carga y particion de los datos, en training y test\n",
    "\n",
    "Antes de comenzar con el analisis debemos partir nuestro dataset en training y test sets.\n",
    "Carguen el dataset utilizado en el practico anterior, realizen la particion y apliquen un pipeline de preprocesamiento en base a lo realizado en el practico anterior."
   ]
  },
  {
   "cell_type": "code",
   "execution_count": 2,
   "metadata": {
    "id": "9PQ-v9egMQiz"
   },
   "outputs": [],
   "source": [
    "def transform_data(dataframe):\n",
    "    \"\"\"\n",
    "    Transformar dataframe convirtiendo algunas variables no\n",
    "    numéricas en numéricas y eliminando otras.\n",
    "    \"\"\"\n",
    "\n",
    "    new_dataframe = dataframe.copy()\n",
    "    \n",
    "    # Eliminar índices, IDs y variables compuestas.\n",
    "    new_dataframe.drop(\n",
    "        columns=[\n",
    "            'COD_ID', 'PAC_1', 'PAC_2', 'geometry', 'TR_S_geometry',\n",
    "            'g_dispersion', 'TR_S_COD_ID', 'UNI_TR_S', 'TR_S_BARR_1',\n",
    "            'TR_S_BARR_2'\n",
    "        ],\n",
    "        inplace=True,\n",
    "        errors='ignore'\n",
    "    )\n",
    "\n",
    "    # Eliminar las siguientes variables dado que:\n",
    "    # TR_S_BARR_3 == '' para todas las filas,\n",
    "    # DIST == 46 para todas las filas,\n",
    "    # CONF == 'RA' para todas las filas excepto una,\n",
    "    # POSTO == 'PT' para todas las filas,\n",
    "    # BANC == 0 para todas la filas,\n",
    "    # MRT == 0 para todas la filas,\n",
    "    # DESCR = '' para todas las filas,\n",
    "    # SIT_ATIV = 'AT' para todas las filas excepto una,\n",
    "    # TIP_UNID = 38 para todas las filas,\n",
    "    # ATRB_PER = 1 para casi todas las filas,\n",
    "    # CAP_CHA = 1 para casi todas las filas,\n",
    "    # POS = 'PD' para casi todas las filas.\n",
    "    new_dataframe.drop(\n",
    "        columns=[\n",
    "            'TR_S_BARR_3', 'DIST', 'CONF', 'POSTO', 'BANC', 'MRT', 'DESCR',\n",
    "            'SIT_ATIV', 'TIP_UNID', 'ATRB_PER', 'CAP_CHA', 'POS'\n",
    "        ],\n",
    "        inplace=True,\n",
    "        errors='ignore'\n",
    "    )\n",
    "\n",
    "    # Eliminar DIC (vamos a usar FIC).\n",
    "    new_dataframe.drop(columns=['DIC'], inplace=True, errors='ignore')\n",
    "    \n",
    "    # Convertir CAP_ELO en una columna entera.\n",
    "    new_dataframe.CAP_ELO = new_dataframe.CAP_ELO.replace({\n",
    "        '05H': '50', '1H': '100', '2H': '200', '3H': '300', '5H': '500',\n",
    "        '6K': '6000', '10K': '10000', '15K': '15000'\n",
    "    }).astype('int')\n",
    "\n",
    "    # Aplicar codificación one-hot para ARE_LOC.\n",
    "    dummies = pd.get_dummies(new_dataframe.ARE_LOC)\n",
    "    for dummy_col_name in dummies.columns:\n",
    "        new_dataframe['ARE_LOC_is_{}'.format(dummy_col_name)] = dummies[dummy_col_name]\n",
    "\n",
    "    # Algunas filas tienen varios valores de CNAE. Esto ocurre porque hay algunos\n",
    "    # transformadores de distribución para los cuales existen dos o más\n",
    "    # actividades económicas populares entre sus consumidores.\n",
    "    # Como los casos son pocos, para simplificar el conjunto de datos, quedémonos\n",
    "    # sólo con un valor de CNAE para cada fila que tenga múltiples valores.\n",
    "    new_dataframe.CNAE = new_dataframe.CNAE.str.replace(\"'\", \"\").str.strip('[]').apply(\n",
    "        lambda value: value.split(' ')[-1]\n",
    "    )\n",
    "\n",
    "    # Aplicar codificación one-hot a CNAE (sólo valores más comunes).\n",
    "    cnae_counts = new_dataframe.CNAE.value_counts()\n",
    "    common_cnae_values = cnae_counts[:3].keys()\n",
    "    dummies = pd.get_dummies(\n",
    "        new_dataframe.CNAE.apply(\n",
    "            lambda value: value if value in common_cnae_values else 'uncommon'\n",
    "        )\n",
    "    )\n",
    "    for dummy_col_name in dummies.columns:\n",
    "        new_dataframe['CNAE_is_{}'.format(dummy_col_name)] = dummies[dummy_col_name]\n",
    "\n",
    "    # Calcular edades de conexión en días. Luego eliminaremos las columnas\n",
    "    # DAT_CON y TR_S_DAT_CON porque no son numéricas.\n",
    "    connection_age = datetime.datetime.now() - new_dataframe.DAT_CON\n",
    "    new_dataframe['connection_age_days'] = connection_age.apply(\n",
    "        lambda value: value.days\n",
    "    )\n",
    "    sub_connection_age = datetime.datetime.now() - new_dataframe.TR_S_DAT_CON\n",
    "    new_dataframe['TR_S_connection_age_days'] = sub_connection_age.apply(\n",
    "        lambda value: value.days\n",
    "    )\n",
    "\n",
    "    # Separar filas de acurdo a si el valor de PAC_3 se conoce o no. Luego\n",
    "    # eliminaremos PAC_3 porque no es numérica.\n",
    "    new_dataframe['PAC_3_known'] = new_dataframe.PAC_3.apply(\n",
    "        lambda value: 0 if value == '0' else 1\n",
    "    )\n",
    "\n",
    "    # Aplicar codificación one-hot para FAS_CON_*.\n",
    "    for col_name in ['FAS_CON_P', 'FAS_CON_S', 'FAS_CON_T']:\n",
    "        dummies = pd.get_dummies(new_dataframe[col_name])\n",
    "        for dummy_col_name in dummies.columns:\n",
    "            new_dataframe['{}_is_{}'.format(col_name, dummy_col_name)] = dummies[dummy_col_name]\n",
    "\n",
    "    # Aplicar codificación one-hot para ARE_LOC.\n",
    "    dummies = pd.get_dummies(new_dataframe.CTMT)\n",
    "    for dummy_col_name in dummies.columns:\n",
    "        new_dataframe['CTMT_is_{}'.format(dummy_col_name)] = dummies[dummy_col_name]\n",
    "\n",
    "    # Aplicar codificación one-hot para SUB.\n",
    "    dummies = pd.get_dummies(new_dataframe.SUB)\n",
    "    for dummy_col_name in dummies.columns:\n",
    "        new_dataframe['SUB_is_{}'.format(dummy_col_name)] = dummies[dummy_col_name]\n",
    "\n",
    "    # Aplicar codificación one-hot para TIP_TRAFO.\n",
    "    dummies = pd.get_dummies(new_dataframe.TIP_TRAFO)\n",
    "    for dummy_col_name in dummies.columns:\n",
    "        new_dataframe['TIP_TRAFO_is_{}'.format(dummy_col_name)] = dummies[dummy_col_name]\n",
    "\n",
    "    # Quitar columnas que no sean numéricas.\n",
    "    new_dataframe.drop(\n",
    "        columns=[\n",
    "            'ARE_LOC', 'CNAE', 'DAT_CON', 'TR_S_DAT_CON', 'PAC_3', 'FAS_CON_P',\n",
    "            'FAS_CON_S', 'FAS_CON_T', 'CTMT', 'SUB', 'TIP_TRAFO'\n",
    "        ],\n",
    "        inplace=True,\n",
    "        errors='ignore'\n",
    "    )\n",
    "\n",
    "    return new_dataframe"
   ]
  },
  {
   "cell_type": "code",
   "execution_count": 3,
   "metadata": {
    "id": "hm69f-yVM8tb"
   },
   "outputs": [],
   "source": [
    "dataframe = pd.read_csv(\n",
    "    './data/curated_data.csv',\n",
    "    sep='\\t',\n",
    "    parse_dates=['DAT_CON', 'TR_S_DAT_CON'],\n",
    "    date_parser=lambda x: datetime.datetime.strptime(x, '%d/%m/%Y')\n",
    ")"
   ]
  },
  {
   "cell_type": "code",
   "execution_count": 4,
   "metadata": {
    "id": "DItM-OERM8wB"
   },
   "outputs": [
    {
     "data": {
      "text/html": [
       "<div>\n",
       "<style scoped>\n",
       "    .dataframe tbody tr th:only-of-type {\n",
       "        vertical-align: middle;\n",
       "    }\n",
       "\n",
       "    .dataframe tbody tr th {\n",
       "        vertical-align: top;\n",
       "    }\n",
       "\n",
       "    .dataframe thead th {\n",
       "        text-align: right;\n",
       "    }\n",
       "</style>\n",
       "<table border=\"1\" class=\"dataframe\">\n",
       "  <thead>\n",
       "    <tr style=\"text-align: right;\">\n",
       "      <th></th>\n",
       "      <th>CONJ</th>\n",
       "      <th>MUN</th>\n",
       "      <th>ENE_01</th>\n",
       "      <th>ENE_02</th>\n",
       "      <th>ENE_03</th>\n",
       "      <th>ENE_04</th>\n",
       "      <th>ENE_05</th>\n",
       "      <th>ENE_06</th>\n",
       "      <th>ENE_07</th>\n",
       "      <th>ENE_08</th>\n",
       "      <th>...</th>\n",
       "      <th>CTMT_is_6_SEEST_1</th>\n",
       "      <th>CTMT_is_7_SEEST_1</th>\n",
       "      <th>SUB_is_SEAUA</th>\n",
       "      <th>SUB_is_SECON</th>\n",
       "      <th>SUB_is_SEEST</th>\n",
       "      <th>SUB_is_SEITI</th>\n",
       "      <th>SUB_is_SESAQ</th>\n",
       "      <th>SUB_is_SETMG</th>\n",
       "      <th>TIP_TRAFO_is_MT</th>\n",
       "      <th>TIP_TRAFO_is_T</th>\n",
       "    </tr>\n",
       "  </thead>\n",
       "  <tbody>\n",
       "    <tr>\n",
       "      <th>4984</th>\n",
       "      <td>15602</td>\n",
       "      <td>2806305</td>\n",
       "      <td>2703</td>\n",
       "      <td>2565</td>\n",
       "      <td>2463</td>\n",
       "      <td>2790</td>\n",
       "      <td>2656</td>\n",
       "      <td>2551</td>\n",
       "      <td>2759</td>\n",
       "      <td>2074</td>\n",
       "      <td>...</td>\n",
       "      <td>0</td>\n",
       "      <td>0</td>\n",
       "      <td>0</td>\n",
       "      <td>0</td>\n",
       "      <td>1</td>\n",
       "      <td>0</td>\n",
       "      <td>0</td>\n",
       "      <td>0</td>\n",
       "      <td>0</td>\n",
       "      <td>1</td>\n",
       "    </tr>\n",
       "    <tr>\n",
       "      <th>5798</th>\n",
       "      <td>15600</td>\n",
       "      <td>2805109</td>\n",
       "      <td>519</td>\n",
       "      <td>410</td>\n",
       "      <td>386</td>\n",
       "      <td>403</td>\n",
       "      <td>664</td>\n",
       "      <td>649</td>\n",
       "      <td>802</td>\n",
       "      <td>805</td>\n",
       "      <td>...</td>\n",
       "      <td>0</td>\n",
       "      <td>0</td>\n",
       "      <td>1</td>\n",
       "      <td>0</td>\n",
       "      <td>0</td>\n",
       "      <td>0</td>\n",
       "      <td>0</td>\n",
       "      <td>0</td>\n",
       "      <td>1</td>\n",
       "      <td>0</td>\n",
       "    </tr>\n",
       "    <tr>\n",
       "      <th>5339</th>\n",
       "      <td>15602</td>\n",
       "      <td>2802106</td>\n",
       "      <td>23121</td>\n",
       "      <td>26566</td>\n",
       "      <td>22821</td>\n",
       "      <td>25358</td>\n",
       "      <td>26446</td>\n",
       "      <td>23078</td>\n",
       "      <td>22513</td>\n",
       "      <td>22757</td>\n",
       "      <td>...</td>\n",
       "      <td>0</td>\n",
       "      <td>0</td>\n",
       "      <td>0</td>\n",
       "      <td>0</td>\n",
       "      <td>1</td>\n",
       "      <td>0</td>\n",
       "      <td>0</td>\n",
       "      <td>0</td>\n",
       "      <td>0</td>\n",
       "      <td>1</td>\n",
       "    </tr>\n",
       "    <tr>\n",
       "      <th>4963</th>\n",
       "      <td>15602</td>\n",
       "      <td>2802106</td>\n",
       "      <td>88</td>\n",
       "      <td>94</td>\n",
       "      <td>75</td>\n",
       "      <td>75</td>\n",
       "      <td>114</td>\n",
       "      <td>146</td>\n",
       "      <td>68</td>\n",
       "      <td>72</td>\n",
       "      <td>...</td>\n",
       "      <td>0</td>\n",
       "      <td>0</td>\n",
       "      <td>0</td>\n",
       "      <td>0</td>\n",
       "      <td>1</td>\n",
       "      <td>0</td>\n",
       "      <td>0</td>\n",
       "      <td>0</td>\n",
       "      <td>1</td>\n",
       "      <td>0</td>\n",
       "    </tr>\n",
       "    <tr>\n",
       "      <th>7354</th>\n",
       "      <td>15601</td>\n",
       "      <td>2803005</td>\n",
       "      <td>26</td>\n",
       "      <td>34</td>\n",
       "      <td>29</td>\n",
       "      <td>22</td>\n",
       "      <td>15</td>\n",
       "      <td>11</td>\n",
       "      <td>0</td>\n",
       "      <td>10</td>\n",
       "      <td>...</td>\n",
       "      <td>0</td>\n",
       "      <td>0</td>\n",
       "      <td>0</td>\n",
       "      <td>0</td>\n",
       "      <td>0</td>\n",
       "      <td>1</td>\n",
       "      <td>0</td>\n",
       "      <td>0</td>\n",
       "      <td>1</td>\n",
       "      <td>0</td>\n",
       "    </tr>\n",
       "    <tr>\n",
       "      <th>...</th>\n",
       "      <td>...</td>\n",
       "      <td>...</td>\n",
       "      <td>...</td>\n",
       "      <td>...</td>\n",
       "      <td>...</td>\n",
       "      <td>...</td>\n",
       "      <td>...</td>\n",
       "      <td>...</td>\n",
       "      <td>...</td>\n",
       "      <td>...</td>\n",
       "      <td>...</td>\n",
       "      <td>...</td>\n",
       "      <td>...</td>\n",
       "      <td>...</td>\n",
       "      <td>...</td>\n",
       "      <td>...</td>\n",
       "      <td>...</td>\n",
       "      <td>...</td>\n",
       "      <td>...</td>\n",
       "      <td>...</td>\n",
       "      <td>...</td>\n",
       "    </tr>\n",
       "    <tr>\n",
       "      <th>5734</th>\n",
       "      <td>15600</td>\n",
       "      <td>2800407</td>\n",
       "      <td>117906</td>\n",
       "      <td>108980</td>\n",
       "      <td>116996</td>\n",
       "      <td>114362</td>\n",
       "      <td>117782</td>\n",
       "      <td>112401</td>\n",
       "      <td>115085</td>\n",
       "      <td>119218</td>\n",
       "      <td>...</td>\n",
       "      <td>0</td>\n",
       "      <td>0</td>\n",
       "      <td>1</td>\n",
       "      <td>0</td>\n",
       "      <td>0</td>\n",
       "      <td>0</td>\n",
       "      <td>0</td>\n",
       "      <td>0</td>\n",
       "      <td>0</td>\n",
       "      <td>1</td>\n",
       "    </tr>\n",
       "    <tr>\n",
       "      <th>5191</th>\n",
       "      <td>15602</td>\n",
       "      <td>2802106</td>\n",
       "      <td>0</td>\n",
       "      <td>0</td>\n",
       "      <td>0</td>\n",
       "      <td>0</td>\n",
       "      <td>0</td>\n",
       "      <td>0</td>\n",
       "      <td>0</td>\n",
       "      <td>0</td>\n",
       "      <td>...</td>\n",
       "      <td>0</td>\n",
       "      <td>1</td>\n",
       "      <td>0</td>\n",
       "      <td>0</td>\n",
       "      <td>1</td>\n",
       "      <td>0</td>\n",
       "      <td>0</td>\n",
       "      <td>0</td>\n",
       "      <td>1</td>\n",
       "      <td>0</td>\n",
       "    </tr>\n",
       "    <tr>\n",
       "      <th>5390</th>\n",
       "      <td>15602</td>\n",
       "      <td>2802106</td>\n",
       "      <td>0</td>\n",
       "      <td>0</td>\n",
       "      <td>0</td>\n",
       "      <td>0</td>\n",
       "      <td>236</td>\n",
       "      <td>1247</td>\n",
       "      <td>948</td>\n",
       "      <td>1009</td>\n",
       "      <td>...</td>\n",
       "      <td>1</td>\n",
       "      <td>0</td>\n",
       "      <td>0</td>\n",
       "      <td>0</td>\n",
       "      <td>1</td>\n",
       "      <td>0</td>\n",
       "      <td>0</td>\n",
       "      <td>0</td>\n",
       "      <td>0</td>\n",
       "      <td>1</td>\n",
       "    </tr>\n",
       "    <tr>\n",
       "      <th>860</th>\n",
       "      <td>12737</td>\n",
       "      <td>2807402</td>\n",
       "      <td>433</td>\n",
       "      <td>384</td>\n",
       "      <td>438</td>\n",
       "      <td>376</td>\n",
       "      <td>345</td>\n",
       "      <td>389</td>\n",
       "      <td>349</td>\n",
       "      <td>419</td>\n",
       "      <td>...</td>\n",
       "      <td>0</td>\n",
       "      <td>0</td>\n",
       "      <td>0</td>\n",
       "      <td>0</td>\n",
       "      <td>0</td>\n",
       "      <td>0</td>\n",
       "      <td>1</td>\n",
       "      <td>0</td>\n",
       "      <td>1</td>\n",
       "      <td>0</td>\n",
       "    </tr>\n",
       "    <tr>\n",
       "      <th>7270</th>\n",
       "      <td>15601</td>\n",
       "      <td>2803005</td>\n",
       "      <td>470</td>\n",
       "      <td>369</td>\n",
       "      <td>365</td>\n",
       "      <td>310</td>\n",
       "      <td>332</td>\n",
       "      <td>325</td>\n",
       "      <td>360</td>\n",
       "      <td>378</td>\n",
       "      <td>...</td>\n",
       "      <td>0</td>\n",
       "      <td>0</td>\n",
       "      <td>0</td>\n",
       "      <td>0</td>\n",
       "      <td>0</td>\n",
       "      <td>1</td>\n",
       "      <td>0</td>\n",
       "      <td>0</td>\n",
       "      <td>1</td>\n",
       "      <td>0</td>\n",
       "    </tr>\n",
       "  </tbody>\n",
       "</table>\n",
       "<p>6183 rows × 96 columns</p>\n",
       "</div>"
      ],
      "text/plain": [
       "       CONJ      MUN  ENE_01  ENE_02  ENE_03  ENE_04  ENE_05  ENE_06  ENE_07  \\\n",
       "4984  15602  2806305    2703    2565    2463    2790    2656    2551    2759   \n",
       "5798  15600  2805109     519     410     386     403     664     649     802   \n",
       "5339  15602  2802106   23121   26566   22821   25358   26446   23078   22513   \n",
       "4963  15602  2802106      88      94      75      75     114     146      68   \n",
       "7354  15601  2803005      26      34      29      22      15      11       0   \n",
       "...     ...      ...     ...     ...     ...     ...     ...     ...     ...   \n",
       "5734  15600  2800407  117906  108980  116996  114362  117782  112401  115085   \n",
       "5191  15602  2802106       0       0       0       0       0       0       0   \n",
       "5390  15602  2802106       0       0       0       0     236    1247     948   \n",
       "860   12737  2807402     433     384     438     376     345     389     349   \n",
       "7270  15601  2803005     470     369     365     310     332     325     360   \n",
       "\n",
       "      ENE_08  ...  CTMT_is_6_SEEST_1  CTMT_is_7_SEEST_1  SUB_is_SEAUA  \\\n",
       "4984    2074  ...                  0                  0             0   \n",
       "5798     805  ...                  0                  0             1   \n",
       "5339   22757  ...                  0                  0             0   \n",
       "4963      72  ...                  0                  0             0   \n",
       "7354      10  ...                  0                  0             0   \n",
       "...      ...  ...                ...                ...           ...   \n",
       "5734  119218  ...                  0                  0             1   \n",
       "5191       0  ...                  0                  1             0   \n",
       "5390    1009  ...                  1                  0             0   \n",
       "860      419  ...                  0                  0             0   \n",
       "7270     378  ...                  0                  0             0   \n",
       "\n",
       "      SUB_is_SECON  SUB_is_SEEST  SUB_is_SEITI  SUB_is_SESAQ  SUB_is_SETMG  \\\n",
       "4984             0             1             0             0             0   \n",
       "5798             0             0             0             0             0   \n",
       "5339             0             1             0             0             0   \n",
       "4963             0             1             0             0             0   \n",
       "7354             0             0             1             0             0   \n",
       "...            ...           ...           ...           ...           ...   \n",
       "5734             0             0             0             0             0   \n",
       "5191             0             1             0             0             0   \n",
       "5390             0             1             0             0             0   \n",
       "860              0             0             0             1             0   \n",
       "7270             0             0             1             0             0   \n",
       "\n",
       "      TIP_TRAFO_is_MT  TIP_TRAFO_is_T  \n",
       "4984                0               1  \n",
       "5798                1               0  \n",
       "5339                0               1  \n",
       "4963                1               0  \n",
       "7354                1               0  \n",
       "...               ...             ...  \n",
       "5734                0               1  \n",
       "5191                1               0  \n",
       "5390                0               1  \n",
       "860                 1               0  \n",
       "7270                1               0  \n",
       "\n",
       "[6183 rows x 96 columns]"
      ]
     },
     "execution_count": 4,
     "metadata": {},
     "output_type": "execute_result"
    }
   ],
   "source": [
    "# Partir conjunto de datos en conjuntos de entrenamiento y validación.\n",
    "X_train, X_valid, y_train, y_valid = train_test_split(\n",
    "    transform_data(dataframe.drop(columns=['FIC'])),\n",
    "    dataframe.FIC,\n",
    "    test_size=0.3,\n",
    "    random_state=42\n",
    ")\n",
    "X_train"
   ]
  },
  {
   "cell_type": "markdown",
   "metadata": {
    "id": "nMEJ2NvgLGqW"
   },
   "source": [
    "## Baseline\n",
    "\n",
    "En este practico estaremos utilizando nuevamente un modelo XGBoost, ya que nos permite obtener buenos resultados de manera rapida y ademas cuenta con numerosos hiperparametros que podremos ajustar para optimizar su performance.\n",
    "\n",
    "Para comenzar definiremos un baseline utilizando los hiperparametros por defecto.\n",
    "\n",
    "Entrene un modelo XGBoost basico, utilizando los hiperparametros por defecto, seleccione una metrica de error y presente el resultado."
   ]
  },
  {
   "cell_type": "code",
   "execution_count": 5,
   "metadata": {
    "id": "T3pqwbB0LF5i"
   },
   "outputs": [
    {
     "data": {
      "text/html": [
       "<div>\n",
       "<style scoped>\n",
       "    .dataframe tbody tr th:only-of-type {\n",
       "        vertical-align: middle;\n",
       "    }\n",
       "\n",
       "    .dataframe tbody tr th {\n",
       "        vertical-align: top;\n",
       "    }\n",
       "\n",
       "    .dataframe thead th {\n",
       "        text-align: right;\n",
       "    }\n",
       "</style>\n",
       "<table border=\"1\" class=\"dataframe\">\n",
       "  <thead>\n",
       "    <tr style=\"text-align: right;\">\n",
       "      <th></th>\n",
       "      <th>R squared</th>\n",
       "      <th>Mean absolute error</th>\n",
       "      <th>Mean squared error</th>\n",
       "    </tr>\n",
       "  </thead>\n",
       "  <tbody>\n",
       "    <tr>\n",
       "      <th>Training</th>\n",
       "      <td>0.950245</td>\n",
       "      <td>0.636998</td>\n",
       "      <td>0.743569</td>\n",
       "    </tr>\n",
       "    <tr>\n",
       "      <th>Validation</th>\n",
       "      <td>0.729571</td>\n",
       "      <td>1.473470</td>\n",
       "      <td>4.014440</td>\n",
       "    </tr>\n",
       "  </tbody>\n",
       "</table>\n",
       "</div>"
      ],
      "text/plain": [
       "            R squared  Mean absolute error  Mean squared error\n",
       "Training     0.950245             0.636998            0.743569\n",
       "Validation   0.729571             1.473470            4.014440"
      ]
     },
     "metadata": {},
     "output_type": "display_data"
    },
    {
     "data": {
      "text/html": [
       "<div>\n",
       "<style scoped>\n",
       "    .dataframe tbody tr th:only-of-type {\n",
       "        vertical-align: middle;\n",
       "    }\n",
       "\n",
       "    .dataframe tbody tr th {\n",
       "        vertical-align: top;\n",
       "    }\n",
       "\n",
       "    .dataframe thead th {\n",
       "        text-align: right;\n",
       "    }\n",
       "</style>\n",
       "<table border=\"1\" class=\"dataframe\">\n",
       "  <thead>\n",
       "    <tr style=\"text-align: right;\">\n",
       "      <th></th>\n",
       "      <th>Prediction</th>\n",
       "      <th>Real</th>\n",
       "      <th>Error</th>\n",
       "    </tr>\n",
       "  </thead>\n",
       "  <tbody>\n",
       "    <tr>\n",
       "      <th>7615</th>\n",
       "      <td>14.289218</td>\n",
       "      <td>16.0</td>\n",
       "      <td>1.710782</td>\n",
       "    </tr>\n",
       "    <tr>\n",
       "      <th>3646</th>\n",
       "      <td>3.485020</td>\n",
       "      <td>5.0</td>\n",
       "      <td>1.514980</td>\n",
       "    </tr>\n",
       "    <tr>\n",
       "      <th>7348</th>\n",
       "      <td>2.844335</td>\n",
       "      <td>2.0</td>\n",
       "      <td>0.844335</td>\n",
       "    </tr>\n",
       "    <tr>\n",
       "      <th>3720</th>\n",
       "      <td>7.948332</td>\n",
       "      <td>11.0</td>\n",
       "      <td>3.051668</td>\n",
       "    </tr>\n",
       "    <tr>\n",
       "      <th>5874</th>\n",
       "      <td>5.364953</td>\n",
       "      <td>7.0</td>\n",
       "      <td>1.635047</td>\n",
       "    </tr>\n",
       "    <tr>\n",
       "      <th>1321</th>\n",
       "      <td>8.336020</td>\n",
       "      <td>6.0</td>\n",
       "      <td>2.336020</td>\n",
       "    </tr>\n",
       "    <tr>\n",
       "      <th>3365</th>\n",
       "      <td>5.006450</td>\n",
       "      <td>5.0</td>\n",
       "      <td>0.006450</td>\n",
       "    </tr>\n",
       "    <tr>\n",
       "      <th>1111</th>\n",
       "      <td>10.821966</td>\n",
       "      <td>8.0</td>\n",
       "      <td>2.821966</td>\n",
       "    </tr>\n",
       "    <tr>\n",
       "      <th>6225</th>\n",
       "      <td>5.537346</td>\n",
       "      <td>4.5</td>\n",
       "      <td>1.037346</td>\n",
       "    </tr>\n",
       "    <tr>\n",
       "      <th>3968</th>\n",
       "      <td>8.671190</td>\n",
       "      <td>7.0</td>\n",
       "      <td>1.671190</td>\n",
       "    </tr>\n",
       "  </tbody>\n",
       "</table>\n",
       "</div>"
      ],
      "text/plain": [
       "      Prediction  Real     Error\n",
       "7615   14.289218  16.0  1.710782\n",
       "3646    3.485020   5.0  1.514980\n",
       "7348    2.844335   2.0  0.844335\n",
       "3720    7.948332  11.0  3.051668\n",
       "5874    5.364953   7.0  1.635047\n",
       "1321    8.336020   6.0  2.336020\n",
       "3365    5.006450   5.0  0.006450\n",
       "1111   10.821966   8.0  2.821966\n",
       "6225    5.537346   4.5  1.037346\n",
       "3968    8.671190   7.0  1.671190"
      ]
     },
     "metadata": {},
     "output_type": "display_data"
    }
   ],
   "source": [
    "regressor = xgb.XGBRegressor(random_state=42)\n",
    "\n",
    "regressor.fit(X_train, y_train)\n",
    "\n",
    "y_train_pred = regressor.predict(X_train)\n",
    "y_valid_pred = regressor.predict(X_valid)\n",
    "\n",
    "display_evaluation_errors(y_train, y_train_pred, y_valid, y_valid_pred)\n",
    "display_evaluation_table(y_valid, y_valid_pred)"
   ]
  },
  {
   "cell_type": "code",
   "execution_count": 6,
   "metadata": {
    "id": "VT7Xh-vaNZe6"
   },
   "outputs": [
    {
     "data": {
      "image/png": "[encoded data removed]",
      "text/plain": [
       "<Figure size 576x396 with 2 Axes>"
      ]
     },
     "metadata": {},
     "output_type": "display_data"
    },
    {
     "data": {
      "image/png": "[encoded data removed]",
      "text/plain": [
       "<Figure size 576x396 with 1 Axes>"
      ]
     },
     "metadata": {},
     "output_type": "display_data"
    }
   ],
   "source": [
    "show_residuals_plot(regressor, X_train, y_train, X_valid, y_valid)\n",
    "show_qq_plot(y_valid, y_valid_pred)"
   ]
  },
  {
   "cell_type": "markdown",
   "metadata": {
    "id": "ncjW50mLG6nf"
   },
   "source": [
    "## Seleccion de variables\n",
    "\n",
    "La seleccion de variables es un proceso a traves del cual se intentan distinguir las variables que aportan valor de prediccion de las que no, y de esta forma quedarnos solamente con aquellas que impacten positivamente en nuestro algoritmo.\n",
    "\n",
    "Esto nos traera multiples beneficios, al simplificar el modelo reducimos el riesgo de overfitting, disminuimos el costo computacional de entrenamiento y prediccion y reducimos el ruido introducido por las variables de poco valor.\n",
    "\n",
    "Existen diversas formas de llevar a cabo este proyecto:\n",
    "  - Filtros o Reglas: Se especifica alguna metrica o valor estadistico y se eliminan las features que no lo cumplan. Ej: Correlacion maxima entre variables, correlacion minima con la variable de salida, colinealidad entre variables, cantidad de valores nulos.\n",
    "\n",
    "  - Wrapper Base: Son metodos que se plantean como problemas de busqueda, como por ejemplo la eliminacion recursiva de variables.\n",
    "\n",
    "  - Metodos embebidos: Algunos metodos de estimacion poseen procesos internos de clasificacion de variables, en donde se le asigna un nivel de importancia a cada una de ellas que puede luego ser utilizado para conocer su importancia. Ejemplos clasicos son los coeficientes de la regresion de Lasso o el feature importance en implementaciones basadas en arboles como XGBoost.\n",
    "\n",
    "En base al baseline calculado en el punto anterior comience seleccionando las 50 variables mas importantes en base a la informacion provista por XGBoost."
   ]
  },
  {
   "cell_type": "code",
   "execution_count": 7,
   "metadata": {},
   "outputs": [],
   "source": [
    "from statsmodels.stats.outliers_influence import variance_inflation_factor\n",
    "\n",
    "def calc_vif(X):\n",
    "\n",
    "    # Calculating VIF\n",
    "    vif = pd.DataFrame()\n",
    "    vif[\"variables\"] = X.columns\n",
    "    vif[\"VIF\"] = [variance_inflation_factor(X.values, i) for i in range(X.shape[1])]\n",
    "\n",
    "    return(vif)"
   ]
  },
  {
   "cell_type": "code",
   "execution_count": 8,
   "metadata": {},
   "outputs": [],
   "source": [
    "# #X = transform_data(dataframe.drop(columns=['FIC']))#.iloc[:,:-1]\n",
    "# calc_vif(X)"
   ]
  },
  {
   "cell_type": "code",
   "execution_count": 9,
   "metadata": {
    "id": "Zm43gk9ERkkZ"
   },
   "outputs": [
    {
     "data": {
      "text/plain": [
       "Index(['TR_S_connection_age_days', 'SUB_is_SEITI', 'FAS_CON_P_is_AB',\n",
       "       'CTMT_is_1_SETMG_1', 'ARE_LOC_is_NU', 'CTMT_is_3_SEEST_1',\n",
       "       'CTMT_is_5_SEEST_1', 'ENDNODE', 'CTMT_is_3_SESAQ_1',\n",
       "       'CTMT_is_3_SETMG_1', 'CTMT_is_2_SEEST_1', 'CTMT_is_2_SETMG_1',\n",
       "       'CTMT_is_1_SEITI_1', 'CTMT_is_2_SECON_1', 'CTMT_is_2_SEITI_1',\n",
       "       'dist_to_trs_dijkstra', 'CTMT_is_4_SEITI_1', 'CTMT_is_3_SEAUA_1',\n",
       "       'CTMT_is_6_SEEST_1', 'TR_S_POT_NOM', 'CTMT_is_2_SESAQ_1',\n",
       "       'CTMT_is_3_SEITI_1', 'MUN', 'TR_S_DIST', 'NODE', 'PER_FER',\n",
       "       'CTMT_is_4_SEAUA_1', 'CTMT_is_3_SECON_1', 'TR_S_MUN', 'CNAE_is_0',\n",
       "       'connection_age_days', 'PAC_3_known', 'ENE_11', 'ENE_03', 'POT_NOM',\n",
       "       'CTMT_is_1_SESAQ_1', 'FAS_CON_P_is_BC', 'TR_S_ENES_01', 'ENE_02',\n",
       "       'ENE_10', 'n_close_con', 'ENE_07', 'ENE_06', 'ENE_04', 'TR_S_ENES_04',\n",
       "       'ENE_09', 'TAP', 'ENE_05', 'TEN_LIN_SE', 'CAP_ELO'],\n",
       "      dtype='object')"
      ]
     },
     "execution_count": 9,
     "metadata": {},
     "output_type": "execute_result"
    }
   ],
   "source": [
    "most_important_col_names = X_train.columns[\n",
    "    regressor.feature_importances_.argsort()[-50:][::-1]\n",
    "]\n",
    "most_important_col_names"
   ]
  },
  {
   "cell_type": "markdown",
   "metadata": {
    "id": "OHUcJdAyRkxe"
   },
   "source": [
    "A partir del punto anterior calcule el error para diferentes cantidades de variables, realize un grafico de numero de variables vs error, seleccione el valor de mejor performance y justique."
   ]
  },
  {
   "cell_type": "code",
   "execution_count": 10,
   "metadata": {
    "id": "aPluDiPBRlHL"
   },
   "outputs": [],
   "source": [
    "# **IMPORTANTE**: ver colinealidad entre varaibles, que no haya demasiada.\n",
    "# https://www.analyticsvidhya.com/blog/2020/03/what-is-multicollinearity/"
   ]
  },
  {
   "cell_type": "code",
   "execution_count": 11,
   "metadata": {},
   "outputs": [],
   "source": [
    "n_col_vs_error_data = {\n",
    "    'n_cols': [],\n",
    "    'r2_score': [],\n",
    "    'mean_abs_error': [],\n",
    "    'mean_squared_error': []\n",
    "}\n",
    "col_names = []\n",
    "for col_name in most_important_col_names:\n",
    "    col_names.append(col_name)\n",
    "    \n",
    "    regressor = xgb.XGBRegressor(random_state=42)\n",
    "\n",
    "    regressor.fit(X_train[col_names], y_train)\n",
    "\n",
    "    y_valid_pred = regressor.predict(X_valid[col_names])\n",
    "    \n",
    "    n_col_vs_error_data['n_cols'].append(len(col_names))\n",
    "    n_col_vs_error_data['r2_score'].append(r2_score(y_valid, y_valid_pred))\n",
    "    n_col_vs_error_data['mean_abs_error'].append(mean_absolute_error(y_valid, y_valid_pred))\n",
    "    n_col_vs_error_data['mean_squared_error'].append(mean_squared_error(y_valid, y_valid_pred))\n",
    "\n",
    "n_col_vs_error_df = pd.DataFrame(n_col_vs_error_data);"
   ]
  },
  {
   "cell_type": "code",
   "execution_count": 12,
   "metadata": {},
   "outputs": [
    {
     "data": {
      "image/png": "[encoded data removed]",
      "text/plain": [
       "<Figure size 576x396 with 1 Axes>"
      ]
     },
     "metadata": {},
     "output_type": "display_data"
    }
   ],
   "source": [
    "sns.lineplot(data=n_col_vs_error_df, x='n_cols', y='r2_score')\n",
    "sns.lineplot(data=n_col_vs_error_df, x='n_cols', y='mean_abs_error')\n",
    "sns.lineplot(data=n_col_vs_error_df, x='n_cols', y='mean_squared_error')\n",
    "plt.xlabel('Number of variables')\n",
    "plt.ylabel('Error');"
   ]
  },
  {
   "cell_type": "markdown",
   "metadata": {
    "id": "l8fgdPh2URqB"
   },
   "source": [
    "Genere un nuevo dataset que contenga solamente las variables seleccionadas."
   ]
  },
  {
   "cell_type": "code",
   "execution_count": 16,
   "metadata": {},
   "outputs": [
    {
     "data": {
      "text/plain": [
       "Index(['TR_S_connection_age_days', 'SUB_is_SEITI', 'FAS_CON_P_is_AB',\n",
       "       'CTMT_is_1_SETMG_1', 'ARE_LOC_is_NU', 'CTMT_is_3_SEEST_1',\n",
       "       'CTMT_is_5_SEEST_1', 'ENDNODE', 'CTMT_is_3_SESAQ_1',\n",
       "       'CTMT_is_3_SETMG_1', 'CTMT_is_2_SEEST_1', 'CTMT_is_2_SETMG_1',\n",
       "       'CTMT_is_1_SEITI_1', 'CTMT_is_2_SECON_1', 'CTMT_is_2_SEITI_1',\n",
       "       'dist_to_trs_dijkstra', 'CTMT_is_4_SEITI_1', 'CTMT_is_3_SEAUA_1',\n",
       "       'CTMT_is_6_SEEST_1', 'TR_S_POT_NOM', 'CTMT_is_2_SESAQ_1',\n",
       "       'CTMT_is_3_SEITI_1', 'MUN', 'TR_S_DIST', 'NODE', 'PER_FER',\n",
       "       'CTMT_is_4_SEAUA_1', 'CTMT_is_3_SECON_1', 'TR_S_MUN', 'CNAE_is_0',\n",
       "       'connection_age_days', 'PAC_3_known', 'ENE_11', 'ENE_03'],\n",
       "      dtype='object')"
      ]
     },
     "execution_count": 16,
     "metadata": {},
     "output_type": "execute_result"
    }
   ],
   "source": [
    "selected_col_names = most_important_col_names[:34]\n",
    "selected_col_names"
   ]
  },
  {
   "cell_type": "code",
   "execution_count": 19,
   "metadata": {},
   "outputs": [
    {
     "data": {
      "text/plain": [
       "34"
      ]
     },
     "execution_count": 19,
     "metadata": {},
     "output_type": "execute_result"
    }
   ],
   "source": [
    "X_train = X_train[selected_col_names]\n",
    "X_valid = X_valid[selected_col_names]\n",
    "len(X_train.columns)"
   ]
  },
  {
   "cell_type": "markdown",
   "metadata": {
    "id": "_cg0m3cjG6nf"
   },
   "source": [
    "## Tuning de hiperparametros\n",
    "\n",
    "Existen varias formas de hacer tuneo de hiperparametros, la mejor opcion dependera del costo computacional del modelo y las limitacion en tiempos o recursos que tengamos.\n",
    "\n",
    "Lo primero que debemos definir es un espacio de busqueda, en nuestro caso el modelo cuenta con numerosos hiperparametros, pero utilizarlos a todos representaria un espacio de busqueda muy grande y por ende un costo computacional muy grande.\n",
    "\n",
    "Consultando la documentacion seleccione entre 3 y 5 parametros de XGBoost y defina un espacio de busqueda que pueda ser utilizado por sklearn.\n",
    "\n",
    "\n",
    "\n",
    "\n"
   ]
  },
  {
   "cell_type": "code",
   "execution_count": 38,
   "metadata": {
    "id": "j_nz8KccZ8op"
   },
   "outputs": [],
   "source": [
    "XGBregressor= xgb.XGBRegressor()\n",
    "\n",
    "space = {\n",
    "    'n_estimators' : [100, 200, 300, 400, 500], \n",
    "    'learning_rate' : [0.0001, 0.001, 0.01, 0.1, 0.2, 0.3],\n",
    "    'booster' : ['gbtree','gblinear','dart']\n",
    "}"
   ]
  },
  {
   "cell_type": "markdown",
   "metadata": {
    "id": "-g8afD4lZ9Bb"
   },
   "source": [
    "\n",
    "### Random search\n",
    "\n",
    "Una opcion es una busqueda de hiperparametros sobre un espacio de forma aleatorea. Esta opcion en un principio no nos garantiza encontrar la mejor combinacion sin embargo tiene la ventaja de necesitar muchas menos iteraciones.\n",
    "\n",
    "Utilize la funcion de sklearn.model_selection.RandomizedSearchCV para realizar una busqueda de hiperpatametros."
   ]
  },
  {
   "cell_type": "code",
   "execution_count": 33,
   "metadata": {
    "id": "4qavZpSpaGqO"
   },
   "outputs": [
    {
     "data": {
      "text/plain": [
       "{'n_estimators': 400, 'learning_rate': 0.1, 'booster': 'dart'}"
      ]
     },
     "execution_count": 33,
     "metadata": {},
     "output_type": "execute_result"
    }
   ],
   "source": [
    "from sklearn.model_selection import RandomizedSearchCV\n",
    "model = RandomizedSearchCV(XGBregressor, space, random_state=0)\n",
    "random = model.fit(X_train, y_train)\n",
    "random.best_params_"
   ]
  },
  {
   "cell_type": "markdown",
   "metadata": {},
   "source": [
    "Our best hyperparameters:\n",
    "{'n_estimators': 400, 'max_depth': 9, 'learning_rate': 0.2, 'booster': 'dart'}"
   ]
  },
  {
   "cell_type": "markdown",
   "metadata": {
    "id": "76dT62IVaHAu"
   },
   "source": [
    "### Grid search\n",
    "\n",
    "Cuando queremos agotar las posibilidades de busqueda podemos realizar una busqueda de todas las combinaciones de parametros posibles, esto se denomina Grid Search.\n",
    "\n",
    "Utilize la funcion de sklearn.model_selection.GridSearchCV para realizar una busqueda de hiperpatametros."
   ]
  },
  {
   "cell_type": "code",
   "execution_count": 34,
   "metadata": {
    "id": "SE_Zmmwbaojm"
   },
   "outputs": [
    {
     "data": {
      "text/plain": [
       "{'booster': 'gbtree', 'learning_rate': 0.1, 'n_estimators': 500}"
      ]
     },
     "execution_count": 34,
     "metadata": {},
     "output_type": "execute_result"
    }
   ],
   "source": [
    "# from sklearn.model_selection import GridSearchCV\n",
    "# model = GridSearchCV(XGBregressor, space)\n",
    "# grid_model = model.fit(X_train, y_train)\n",
    "# grid_model.best_params_"
   ]
  },
  {
   "cell_type": "markdown",
   "metadata": {
    "id": "t5KLZi6ja6P6"
   },
   "source": [
    "### Metodos Avanzados, Optimizacion Bayesiana.\n",
    "\n",
    "Existen metodos mas avanzados de busqueda de hiperparametros, uno de ellos utiliza metodos bayesianos para dirigir la busqueda de modo que esta se realize de manera mas eficiente.\n",
    "\n",
    "Una forma de implementar esto facilmente en python es utilizando la libreria hyperopt. A continuacion se presenta un template para utilizar las misma.\n",
    "\n",
    "Pueden encontrar mas informacion en: \n",
    "https://hyperopt.github.io/hyperopt/?source=post_page\n"
   ]
  },
  {
   "cell_type": "code",
   "execution_count": 57,
   "metadata": {
    "id": "eA_f7WDLbhqW"
   },
   "outputs": [
    {
     "name": "stdout",
     "output_type": "stream",
     "text": [
      "  0%|          | 0/100 [00:00<?, ?trial/s, best loss=?]"
     ]
    },
    {
     "name": "stderr",
     "output_type": "stream",
     "text": [
      "job exception: Classification metrics can't handle a mix of continuous and binary targets\n",
      "\n"
     ]
    },
    {
     "name": "stdout",
     "output_type": "stream",
     "text": [
      "  0%|          | 0/100 [00:02<?, ?trial/s, best loss=?]\n"
     ]
    },
    {
     "ename": "ValueError",
     "evalue": "Classification metrics can't handle a mix of continuous and binary targets",
     "output_type": "error",
     "traceback": [
      "\u001b[0;31m---------------------------------------------------------------------------\u001b[0m",
      "\u001b[0;31mValueError\u001b[0m                                Traceback (most recent call last)",
      "\u001b[0;32m<ipython-input-57-7e81dfbc805d>\u001b[0m in \u001b[0;36m<module>\u001b[0;34m\u001b[0m\n\u001b[1;32m     38\u001b[0m                         \u001b[0malgo\u001b[0m \u001b[0;34m=\u001b[0m \u001b[0mtpe\u001b[0m\u001b[0;34m.\u001b[0m\u001b[0msuggest\u001b[0m\u001b[0;34m,\u001b[0m\u001b[0;34m\u001b[0m\u001b[0;34m\u001b[0m\u001b[0m\n\u001b[1;32m     39\u001b[0m                         \u001b[0mmax_evals\u001b[0m \u001b[0;34m=\u001b[0m \u001b[0;36m100\u001b[0m\u001b[0;34m,\u001b[0m\u001b[0;34m\u001b[0m\u001b[0;34m\u001b[0m\u001b[0m\n\u001b[0;32m---> 40\u001b[0;31m                         trials = trials)\n\u001b[0m\u001b[1;32m     41\u001b[0m \u001b[0;34m\u001b[0m\u001b[0m\n\u001b[1;32m     42\u001b[0m \u001b[0mprint\u001b[0m\u001b[0;34m(\u001b[0m\u001b[0;34m\"The best hyperparameters are : \"\u001b[0m\u001b[0;34m,\u001b[0m\u001b[0;34m\"\\n\"\u001b[0m\u001b[0;34m)\u001b[0m\u001b[0;34m\u001b[0m\u001b[0;34m\u001b[0m\u001b[0m\n",
      "\u001b[0;32m~/miniconda2/envs/inf/lib/python3.7/site-packages/hyperopt/fmin.py\u001b[0m in \u001b[0;36mfmin\u001b[0;34m(fn, space, algo, max_evals, timeout, loss_threshold, trials, rstate, allow_trials_fmin, pass_expr_memo_ctrl, catch_eval_exceptions, verbose, return_argmin, points_to_evaluate, max_queue_len, show_progressbar)\u001b[0m\n\u001b[1;32m    480\u001b[0m             \u001b[0mcatch_eval_exceptions\u001b[0m\u001b[0;34m=\u001b[0m\u001b[0mcatch_eval_exceptions\u001b[0m\u001b[0;34m,\u001b[0m\u001b[0;34m\u001b[0m\u001b[0;34m\u001b[0m\u001b[0m\n\u001b[1;32m    481\u001b[0m             \u001b[0mreturn_argmin\u001b[0m\u001b[0;34m=\u001b[0m\u001b[0mreturn_argmin\u001b[0m\u001b[0;34m,\u001b[0m\u001b[0;34m\u001b[0m\u001b[0;34m\u001b[0m\u001b[0m\n\u001b[0;32m--> 482\u001b[0;31m             \u001b[0mshow_progressbar\u001b[0m\u001b[0;34m=\u001b[0m\u001b[0mshow_progressbar\u001b[0m\u001b[0;34m,\u001b[0m\u001b[0;34m\u001b[0m\u001b[0;34m\u001b[0m\u001b[0m\n\u001b[0m\u001b[1;32m    483\u001b[0m         )\n\u001b[1;32m    484\u001b[0m \u001b[0;34m\u001b[0m\u001b[0m\n",
      "\u001b[0;32m~/miniconda2/envs/inf/lib/python3.7/site-packages/hyperopt/base.py\u001b[0m in \u001b[0;36mfmin\u001b[0;34m(self, fn, space, algo, max_evals, timeout, loss_threshold, max_queue_len, rstate, verbose, pass_expr_memo_ctrl, catch_eval_exceptions, return_argmin, show_progressbar)\u001b[0m\n\u001b[1;32m    684\u001b[0m             \u001b[0mcatch_eval_exceptions\u001b[0m\u001b[0;34m=\u001b[0m\u001b[0mcatch_eval_exceptions\u001b[0m\u001b[0;34m,\u001b[0m\u001b[0;34m\u001b[0m\u001b[0;34m\u001b[0m\u001b[0m\n\u001b[1;32m    685\u001b[0m             \u001b[0mreturn_argmin\u001b[0m\u001b[0;34m=\u001b[0m\u001b[0mreturn_argmin\u001b[0m\u001b[0;34m,\u001b[0m\u001b[0;34m\u001b[0m\u001b[0;34m\u001b[0m\u001b[0m\n\u001b[0;32m--> 686\u001b[0;31m             \u001b[0mshow_progressbar\u001b[0m\u001b[0;34m=\u001b[0m\u001b[0mshow_progressbar\u001b[0m\u001b[0;34m,\u001b[0m\u001b[0;34m\u001b[0m\u001b[0;34m\u001b[0m\u001b[0m\n\u001b[0m\u001b[1;32m    687\u001b[0m         )\n\u001b[1;32m    688\u001b[0m \u001b[0;34m\u001b[0m\u001b[0m\n",
      "\u001b[0;32m~/miniconda2/envs/inf/lib/python3.7/site-packages/hyperopt/fmin.py\u001b[0m in \u001b[0;36mfmin\u001b[0;34m(fn, space, algo, max_evals, timeout, loss_threshold, trials, rstate, allow_trials_fmin, pass_expr_memo_ctrl, catch_eval_exceptions, verbose, return_argmin, points_to_evaluate, max_queue_len, show_progressbar)\u001b[0m\n\u001b[1;32m    507\u001b[0m \u001b[0;34m\u001b[0m\u001b[0m\n\u001b[1;32m    508\u001b[0m     \u001b[0;31m# next line is where the fmin is actually executed\u001b[0m\u001b[0;34m\u001b[0m\u001b[0;34m\u001b[0m\u001b[0;34m\u001b[0m\u001b[0m\n\u001b[0;32m--> 509\u001b[0;31m     \u001b[0mrval\u001b[0m\u001b[0;34m.\u001b[0m\u001b[0mexhaust\u001b[0m\u001b[0;34m(\u001b[0m\u001b[0;34m)\u001b[0m\u001b[0;34m\u001b[0m\u001b[0;34m\u001b[0m\u001b[0m\n\u001b[0m\u001b[1;32m    510\u001b[0m \u001b[0;34m\u001b[0m\u001b[0m\n\u001b[1;32m    511\u001b[0m     \u001b[0;32mif\u001b[0m \u001b[0mreturn_argmin\u001b[0m\u001b[0;34m:\u001b[0m\u001b[0;34m\u001b[0m\u001b[0;34m\u001b[0m\u001b[0m\n",
      "\u001b[0;32m~/miniconda2/envs/inf/lib/python3.7/site-packages/hyperopt/fmin.py\u001b[0m in \u001b[0;36mexhaust\u001b[0;34m(self)\u001b[0m\n\u001b[1;32m    328\u001b[0m     \u001b[0;32mdef\u001b[0m \u001b[0mexhaust\u001b[0m\u001b[0;34m(\u001b[0m\u001b[0mself\u001b[0m\u001b[0;34m)\u001b[0m\u001b[0;34m:\u001b[0m\u001b[0;34m\u001b[0m\u001b[0;34m\u001b[0m\u001b[0m\n\u001b[1;32m    329\u001b[0m         \u001b[0mn_done\u001b[0m \u001b[0;34m=\u001b[0m \u001b[0mlen\u001b[0m\u001b[0;34m(\u001b[0m\u001b[0mself\u001b[0m\u001b[0;34m.\u001b[0m\u001b[0mtrials\u001b[0m\u001b[0;34m)\u001b[0m\u001b[0;34m\u001b[0m\u001b[0;34m\u001b[0m\u001b[0m\n\u001b[0;32m--> 330\u001b[0;31m         \u001b[0mself\u001b[0m\u001b[0;34m.\u001b[0m\u001b[0mrun\u001b[0m\u001b[0;34m(\u001b[0m\u001b[0mself\u001b[0m\u001b[0;34m.\u001b[0m\u001b[0mmax_evals\u001b[0m \u001b[0;34m-\u001b[0m \u001b[0mn_done\u001b[0m\u001b[0;34m,\u001b[0m \u001b[0mblock_until_done\u001b[0m\u001b[0;34m=\u001b[0m\u001b[0mself\u001b[0m\u001b[0;34m.\u001b[0m\u001b[0masynchronous\u001b[0m\u001b[0;34m)\u001b[0m\u001b[0;34m\u001b[0m\u001b[0;34m\u001b[0m\u001b[0m\n\u001b[0m\u001b[1;32m    331\u001b[0m         \u001b[0mself\u001b[0m\u001b[0;34m.\u001b[0m\u001b[0mtrials\u001b[0m\u001b[0;34m.\u001b[0m\u001b[0mrefresh\u001b[0m\u001b[0;34m(\u001b[0m\u001b[0;34m)\u001b[0m\u001b[0;34m\u001b[0m\u001b[0;34m\u001b[0m\u001b[0m\n\u001b[1;32m    332\u001b[0m         \u001b[0;32mreturn\u001b[0m \u001b[0mself\u001b[0m\u001b[0;34m\u001b[0m\u001b[0;34m\u001b[0m\u001b[0m\n",
      "\u001b[0;32m~/miniconda2/envs/inf/lib/python3.7/site-packages/hyperopt/fmin.py\u001b[0m in \u001b[0;36mrun\u001b[0;34m(self, N, block_until_done)\u001b[0m\n\u001b[1;32m    284\u001b[0m                 \u001b[0;32melse\u001b[0m\u001b[0;34m:\u001b[0m\u001b[0;34m\u001b[0m\u001b[0;34m\u001b[0m\u001b[0m\n\u001b[1;32m    285\u001b[0m                     \u001b[0;31m# -- loop over trials and do the jobs directly\u001b[0m\u001b[0;34m\u001b[0m\u001b[0;34m\u001b[0m\u001b[0;34m\u001b[0m\u001b[0m\n\u001b[0;32m--> 286\u001b[0;31m                     \u001b[0mself\u001b[0m\u001b[0;34m.\u001b[0m\u001b[0mserial_evaluate\u001b[0m\u001b[0;34m(\u001b[0m\u001b[0;34m)\u001b[0m\u001b[0;34m\u001b[0m\u001b[0;34m\u001b[0m\u001b[0m\n\u001b[0m\u001b[1;32m    287\u001b[0m \u001b[0;34m\u001b[0m\u001b[0m\n\u001b[1;32m    288\u001b[0m                 \u001b[0mself\u001b[0m\u001b[0;34m.\u001b[0m\u001b[0mtrials\u001b[0m\u001b[0;34m.\u001b[0m\u001b[0mrefresh\u001b[0m\u001b[0;34m(\u001b[0m\u001b[0;34m)\u001b[0m\u001b[0;34m\u001b[0m\u001b[0;34m\u001b[0m\u001b[0m\n",
      "\u001b[0;32m~/miniconda2/envs/inf/lib/python3.7/site-packages/hyperopt/fmin.py\u001b[0m in \u001b[0;36mserial_evaluate\u001b[0;34m(self, N)\u001b[0m\n\u001b[1;32m    163\u001b[0m                 \u001b[0mctrl\u001b[0m \u001b[0;34m=\u001b[0m \u001b[0mbase\u001b[0m\u001b[0;34m.\u001b[0m\u001b[0mCtrl\u001b[0m\u001b[0;34m(\u001b[0m\u001b[0mself\u001b[0m\u001b[0;34m.\u001b[0m\u001b[0mtrials\u001b[0m\u001b[0;34m,\u001b[0m \u001b[0mcurrent_trial\u001b[0m\u001b[0;34m=\u001b[0m\u001b[0mtrial\u001b[0m\u001b[0;34m)\u001b[0m\u001b[0;34m\u001b[0m\u001b[0;34m\u001b[0m\u001b[0m\n\u001b[1;32m    164\u001b[0m                 \u001b[0;32mtry\u001b[0m\u001b[0;34m:\u001b[0m\u001b[0;34m\u001b[0m\u001b[0;34m\u001b[0m\u001b[0m\n\u001b[0;32m--> 165\u001b[0;31m                     \u001b[0mresult\u001b[0m \u001b[0;34m=\u001b[0m \u001b[0mself\u001b[0m\u001b[0;34m.\u001b[0m\u001b[0mdomain\u001b[0m\u001b[0;34m.\u001b[0m\u001b[0mevaluate\u001b[0m\u001b[0;34m(\u001b[0m\u001b[0mspec\u001b[0m\u001b[0;34m,\u001b[0m \u001b[0mctrl\u001b[0m\u001b[0;34m)\u001b[0m\u001b[0;34m\u001b[0m\u001b[0;34m\u001b[0m\u001b[0m\n\u001b[0m\u001b[1;32m    166\u001b[0m                 \u001b[0;32mexcept\u001b[0m \u001b[0mException\u001b[0m \u001b[0;32mas\u001b[0m \u001b[0me\u001b[0m\u001b[0;34m:\u001b[0m\u001b[0;34m\u001b[0m\u001b[0;34m\u001b[0m\u001b[0m\n\u001b[1;32m    167\u001b[0m                     \u001b[0mlogger\u001b[0m\u001b[0;34m.\u001b[0m\u001b[0merror\u001b[0m\u001b[0;34m(\u001b[0m\u001b[0;34m\"job exception: %s\"\u001b[0m \u001b[0;34m%\u001b[0m \u001b[0mstr\u001b[0m\u001b[0;34m(\u001b[0m\u001b[0me\u001b[0m\u001b[0;34m)\u001b[0m\u001b[0;34m)\u001b[0m\u001b[0;34m\u001b[0m\u001b[0;34m\u001b[0m\u001b[0m\n",
      "\u001b[0;32m~/miniconda2/envs/inf/lib/python3.7/site-packages/hyperopt/base.py\u001b[0m in \u001b[0;36mevaluate\u001b[0;34m(self, config, ctrl, attach_attachments)\u001b[0m\n\u001b[1;32m    892\u001b[0m                 \u001b[0mprint_node_on_error\u001b[0m\u001b[0;34m=\u001b[0m\u001b[0mself\u001b[0m\u001b[0;34m.\u001b[0m\u001b[0mrec_eval_print_node_on_error\u001b[0m\u001b[0;34m,\u001b[0m\u001b[0;34m\u001b[0m\u001b[0;34m\u001b[0m\u001b[0m\n\u001b[1;32m    893\u001b[0m             )\n\u001b[0;32m--> 894\u001b[0;31m             \u001b[0mrval\u001b[0m \u001b[0;34m=\u001b[0m \u001b[0mself\u001b[0m\u001b[0;34m.\u001b[0m\u001b[0mfn\u001b[0m\u001b[0;34m(\u001b[0m\u001b[0mpyll_rval\u001b[0m\u001b[0;34m)\u001b[0m\u001b[0;34m\u001b[0m\u001b[0;34m\u001b[0m\u001b[0m\n\u001b[0m\u001b[1;32m    895\u001b[0m \u001b[0;34m\u001b[0m\u001b[0m\n\u001b[1;32m    896\u001b[0m         \u001b[0;32mif\u001b[0m \u001b[0misinstance\u001b[0m\u001b[0;34m(\u001b[0m\u001b[0mrval\u001b[0m\u001b[0;34m,\u001b[0m \u001b[0;34m(\u001b[0m\u001b[0mfloat\u001b[0m\u001b[0;34m,\u001b[0m \u001b[0mint\u001b[0m\u001b[0;34m,\u001b[0m \u001b[0mnp\u001b[0m\u001b[0;34m.\u001b[0m\u001b[0mnumber\u001b[0m\u001b[0;34m)\u001b[0m\u001b[0;34m)\u001b[0m\u001b[0;34m:\u001b[0m\u001b[0;34m\u001b[0m\u001b[0;34m\u001b[0m\u001b[0m\n",
      "\u001b[0;32m<ipython-input-57-7e81dfbc805d>\u001b[0m in \u001b[0;36mobjective\u001b[0;34m(space)\u001b[0m\n\u001b[1;32m     28\u001b[0m \u001b[0;34m\u001b[0m\u001b[0m\n\u001b[1;32m     29\u001b[0m     \u001b[0mpred\u001b[0m \u001b[0;34m=\u001b[0m \u001b[0mclf\u001b[0m\u001b[0;34m.\u001b[0m\u001b[0mpredict\u001b[0m\u001b[0;34m(\u001b[0m\u001b[0mX_valid\u001b[0m\u001b[0;34m)\u001b[0m\u001b[0;34m\u001b[0m\u001b[0;34m\u001b[0m\u001b[0m\n\u001b[0;32m---> 30\u001b[0;31m     \u001b[0maccuracy\u001b[0m \u001b[0;34m=\u001b[0m \u001b[0maccuracy_score\u001b[0m\u001b[0;34m(\u001b[0m\u001b[0my_valid\u001b[0m\u001b[0;34m,\u001b[0m \u001b[0mpred\u001b[0m\u001b[0;34m>\u001b[0m\u001b[0;36m0.5\u001b[0m\u001b[0;34m)\u001b[0m\u001b[0;34m\u001b[0m\u001b[0;34m\u001b[0m\u001b[0m\n\u001b[0m\u001b[1;32m     31\u001b[0m     \u001b[0mprint\u001b[0m \u001b[0;34m(\u001b[0m\u001b[0;34m\"SCORE:\"\u001b[0m\u001b[0;34m,\u001b[0m \u001b[0maccuracy\u001b[0m\u001b[0;34m)\u001b[0m\u001b[0;34m\u001b[0m\u001b[0;34m\u001b[0m\u001b[0m\n\u001b[1;32m     32\u001b[0m     \u001b[0;32mreturn\u001b[0m \u001b[0;34m{\u001b[0m\u001b[0;34m'loss'\u001b[0m\u001b[0;34m:\u001b[0m \u001b[0;34m-\u001b[0m\u001b[0maccuracy\u001b[0m\u001b[0;34m,\u001b[0m \u001b[0;34m'status'\u001b[0m\u001b[0;34m:\u001b[0m \u001b[0mSTATUS_OK\u001b[0m \u001b[0;34m}\u001b[0m\u001b[0;34m\u001b[0m\u001b[0;34m\u001b[0m\u001b[0m\n",
      "\u001b[0;32m~/miniconda2/envs/inf/lib/python3.7/site-packages/sklearn/metrics/_classification.py\u001b[0m in \u001b[0;36maccuracy_score\u001b[0;34m(y_true, y_pred, normalize, sample_weight)\u001b[0m\n\u001b[1;32m    183\u001b[0m \u001b[0;34m\u001b[0m\u001b[0m\n\u001b[1;32m    184\u001b[0m     \u001b[0;31m# Compute accuracy for each possible representation\u001b[0m\u001b[0;34m\u001b[0m\u001b[0;34m\u001b[0m\u001b[0;34m\u001b[0m\u001b[0m\n\u001b[0;32m--> 185\u001b[0;31m     \u001b[0my_type\u001b[0m\u001b[0;34m,\u001b[0m \u001b[0my_true\u001b[0m\u001b[0;34m,\u001b[0m \u001b[0my_pred\u001b[0m \u001b[0;34m=\u001b[0m \u001b[0m_check_targets\u001b[0m\u001b[0;34m(\u001b[0m\u001b[0my_true\u001b[0m\u001b[0;34m,\u001b[0m \u001b[0my_pred\u001b[0m\u001b[0;34m)\u001b[0m\u001b[0;34m\u001b[0m\u001b[0;34m\u001b[0m\u001b[0m\n\u001b[0m\u001b[1;32m    186\u001b[0m     \u001b[0mcheck_consistent_length\u001b[0m\u001b[0;34m(\u001b[0m\u001b[0my_true\u001b[0m\u001b[0;34m,\u001b[0m \u001b[0my_pred\u001b[0m\u001b[0;34m,\u001b[0m \u001b[0msample_weight\u001b[0m\u001b[0;34m)\u001b[0m\u001b[0;34m\u001b[0m\u001b[0;34m\u001b[0m\u001b[0m\n\u001b[1;32m    187\u001b[0m     \u001b[0;32mif\u001b[0m \u001b[0my_type\u001b[0m\u001b[0;34m.\u001b[0m\u001b[0mstartswith\u001b[0m\u001b[0;34m(\u001b[0m\u001b[0;34m'multilabel'\u001b[0m\u001b[0;34m)\u001b[0m\u001b[0;34m:\u001b[0m\u001b[0;34m\u001b[0m\u001b[0;34m\u001b[0m\u001b[0m\n",
      "\u001b[0;32m~/miniconda2/envs/inf/lib/python3.7/site-packages/sklearn/metrics/_classification.py\u001b[0m in \u001b[0;36m_check_targets\u001b[0;34m(y_true, y_pred)\u001b[0m\n\u001b[1;32m     88\u001b[0m     \u001b[0;32mif\u001b[0m \u001b[0mlen\u001b[0m\u001b[0;34m(\u001b[0m\u001b[0my_type\u001b[0m\u001b[0;34m)\u001b[0m \u001b[0;34m>\u001b[0m \u001b[0;36m1\u001b[0m\u001b[0;34m:\u001b[0m\u001b[0;34m\u001b[0m\u001b[0;34m\u001b[0m\u001b[0m\n\u001b[1;32m     89\u001b[0m         raise ValueError(\"Classification metrics can't handle a mix of {0} \"\n\u001b[0;32m---> 90\u001b[0;31m                          \"and {1} targets\".format(type_true, type_pred))\n\u001b[0m\u001b[1;32m     91\u001b[0m \u001b[0;34m\u001b[0m\u001b[0m\n\u001b[1;32m     92\u001b[0m     \u001b[0;31m# We can't have more than one value on y_type => The set is no more needed\u001b[0m\u001b[0;34m\u001b[0m\u001b[0;34m\u001b[0m\u001b[0;34m\u001b[0m\u001b[0m\n",
      "\u001b[0;31mValueError\u001b[0m: Classification metrics can't handle a mix of continuous and binary targets"
     ]
    }
   ],
   "source": [
    "# import\n",
    "from hyperopt import STATUS_OK, Trials, fmin, hp, tpe\n",
    "from sklearn.metrics import accuracy_score\n",
    "\n",
    "# Definicion de espacio de busqueda\n",
    "space={ 'n_estimators' : hp.choice('n_estimators', [100, 200, 300, 400, 500]),\n",
    "        'learning_rate' : hp.choice('learning_rate',[0.0001, 0.001, 0.01, 0.1, 0.2, 0.3]),\n",
    "       'seed': 0\n",
    "   }\n",
    "\n",
    "# Debemos generar una funcion objetivo que luego pasaremos al optimizar para minimizar\n",
    "# Observar que la funcion retorna el valor negativo de accuracy, ya que como\n",
    "# mencionamos el optimizador 'minimizara' ese valor\n",
    "\n",
    "def objective(space):\n",
    "    # TODO: estamos usando regresión! Cambiar por XGBRegressor!\n",
    "    clf= xgb.XGBRegressor(\n",
    "                    n_estimators =space['n_estimators'], \n",
    "                    learning_rate = int(space['learning_rate']))#, \n",
    "                    #booster = space['booster'])\n",
    "    \n",
    "    evaluation = [( X_train, y_train), ( X_valid, y_valid)]\n",
    "    \n",
    "    clf.fit(X_train, y_train)#,\n",
    "            eval_set=evaluation, eval_metric=\"auc\",\n",
    "            early_stopping_rounds=10, verbose=False)\n",
    "    \n",
    "\n",
    "    pred = clf.predict(X_valid)\n",
    "    accuracy = accuracy_score(y_valid, pred>0.5)\n",
    "    print (\"SCORE:\", accuracy)\n",
    "    return {'loss': -accuracy, 'status': STATUS_OK }\n",
    "\n",
    "#Correr Optimizacion\n",
    "trials = Trials()\n",
    "best_hyperparams = fmin(fn = objective,\n",
    "                        space = space,\n",
    "                        algo = tpe.suggest,\n",
    "                        max_evals = 100,\n",
    "                        trials = trials)\n",
    "\n",
    "print(\"The best hyperparameters are : \",\"\\n\")\n",
    "print(best_hyperparams)"
   ]
  },
  {
   "cell_type": "markdown",
   "metadata": {
    "id": "hOGSm-n-dmZS"
   },
   "source": [
    "## Comparacion\n",
    "\n",
    "Realize una tabla comparativa de los resultados obtenidos entre:\n",
    "\n",
    "- Modelo con hiperparametros por default sin seleccion de variables\n",
    "- Modelo con hiperparametros por default con seleccion de variables\n",
    "- Modelo con optimizacion de hiperparametros por cada metodo\n",
    "\n",
    "En base a los resultados exponga sus observacion relacionada tanto con la performance del modelo como de los tiempos de ejecucion."
   ]
  },
  {
   "cell_type": "code",
   "execution_count": null,
   "metadata": {
    "id": "HoXI1T65e_lk"
   },
   "outputs": [],
   "source": []
  },
  {
   "cell_type": "markdown",
   "metadata": {
    "id": "C5hfsfnEfu4z"
   },
   "source": [
    "# Aprendizaje Automático No Supervisado\n",
    "\n",
    "### Clusterizacion como metodo de generacion de features\n",
    "\n",
    "Vamos a utilizar a la clusterización como método de generacion de features y posteriormente vamos a correr los modelos de predicción.\n",
    "\n",
    "Basandose en el algoritmo de KMeans, aplique el metodo de codo (elbow) para estimar la cantidad optima de clusters. \n",
    "\n",
    "(Opcional) En caso de que la clusterizacion este demorando mucho en ejecutarse puede aplicarse PCA en un paso previo para disminuir las dimensiones."
   ]
  },
  {
   "cell_type": "code",
   "execution_count": null,
   "metadata": {
    "id": "0rh04QSsgo15"
   },
   "outputs": [],
   "source": []
  },
  {
   "cell_type": "markdown",
   "metadata": {
    "id": "K7YXXxMegpDX"
   },
   "source": [
    "Realizar la predicción del cluster del conjunto de validación.\n",
    "\n",
    "\n"
   ]
  },
  {
   "cell_type": "code",
   "execution_count": null,
   "metadata": {
    "id": "AHtbCgT-gpMi"
   },
   "outputs": [],
   "source": []
  },
  {
   "cell_type": "markdown",
   "metadata": {
    "id": "uIwTiogQgpVW"
   },
   "source": [
    "Integre los clusters al dataset de training y vuelva a correr a entrenar el algoritmo de deteccion de mejor rendimiento."
   ]
  },
  {
   "cell_type": "code",
   "execution_count": null,
   "metadata": {
    "id": "7zY6QIT-gpdE"
   },
   "outputs": [],
   "source": []
  },
  {
   "cell_type": "markdown",
   "metadata": {
    "id": "b7BPkcMQhZcY"
   },
   "source": [
    "Compare los resultados obtenidos."
   ]
  },
  {
   "cell_type": "code",
   "execution_count": null,
   "metadata": {
    "id": "0lyfryL5kUk0"
   },
   "outputs": [],
   "source": []
  }
 ],
 "metadata": {
  "colab": {
   "collapsed_sections": [],
   "name": "4_1_TPractico - Aprendizaje Supervisado y No Supervisado.ipynb",
   "provenance": [],
   "toc_visible": true
  },
  "kernelspec": {
   "display_name": "Python 3",
   "language": "python",
   "name": "python3"
  },
  "language_info": {
   "codemirror_mode": {
    "name": "ipython",
    "version": 3
   },
   "file_extension": ".py",
   "mimetype": "text/x-python",
   "name": "python",
   "nbconvert_exporter": "python",
   "pygments_lexer": "ipython3",
   "version": "3.7.7"
  }
 },
 "nbformat": 4,
 "nbformat_minor": 4
}
