{
 "cells": [
  {
   "cell_type": "markdown",
   "metadata": {
    "id": "IRWQndQrG6nT"
   },
   "source": [
    "<center>\n",
    "<h4>Diplodatos 2020 - FaMAF - UNC</h4>\n",
    "<h1>Procesamiento de datos georeferenciados</h1>\n",
    "<h3>Aprendizaje Supervisado</h3>\n",
    "</center>"
   ]
  },
  {
   "cell_type": "markdown",
   "metadata": {
    "id": "cslNL1iOG6nV"
   },
   "source": [
    "### Introducción\n",
    "\n",
    "En el siguiente trabajo profundizaremos en el proceso de entrenamiento del modelo centrandonos en diferentes formas de seleccion de variables y tuning de hiperparametros.\n",
    "\n",
    "Para esto construiremos sobre el conocimiento obtenido de los practicos anteriores."
   ]
  },
  {
   "cell_type": "code",
   "execution_count": 1,
   "metadata": {},
   "outputs": [
    {
     "name": "stderr",
     "output_type": "stream",
     "text": [
      "/Users/brandonjanes/miniconda2/envs/inf/lib/python3.7/site-packages/sklearn/utils/deprecation.py:144: FutureWarning: The sklearn.metrics.classification module is  deprecated in version 0.22 and will be removed in version 0.24. The corresponding classes / functions should instead be imported from sklearn.metrics. Anything that cannot be imported from sklearn.metrics is now part of the private API.\n",
      "  warnings.warn(message, FutureWarning)\n"
     ]
    }
   ],
   "source": [
    "import datetime\n",
    "\n",
    "import matplotlib.pyplot as plt\n",
    "import numpy as np\n",
    "import pandas as pd\n",
    "import seaborn as sns\n",
    "import xgboost as xgb\n",
    "\n",
    "from sklearn.metrics import (\n",
    "    mean_absolute_error,\n",
    "    mean_squared_error,\n",
    "    r2_score,\n",
    ")\n",
    "from sklearn.model_selection import train_test_split\n",
    "\n",
    "from utils import (\n",
    "    display_evaluation_errors,\n",
    "    display_evaluation_table,\n",
    "    display_markdown,\n",
    "    show_qq_plot,\n",
    "    show_residuals_plot\n",
    ")\n",
    "\n",
    "from hyperopt import STATUS_OK, Trials, fmin, hp, tpe"
   ]
  },
  {
   "cell_type": "markdown",
   "metadata": {
    "id": "UEt7u6VHG6nd"
   },
   "source": [
    "# Aprendizaje Automático Supervisado"
   ]
  },
  {
   "cell_type": "markdown",
   "metadata": {
    "id": "_LgIRJLHMQUb"
   },
   "source": [
    "## Carga y particion de los datos, en training y test\n",
    "\n",
    "Antes de comenzar con el analisis debemos partir nuestro dataset en training y test sets.\n",
    "Carguen el dataset utilizado en el practico anterior, realizen la particion y apliquen un pipeline de preprocesamiento en base a lo realizado en el practico anterior."
   ]
  },
  {
   "cell_type": "code",
   "execution_count": 2,
   "metadata": {
    "id": "9PQ-v9egMQiz"
   },
   "outputs": [],
   "source": [
    "def transform_data(dataframe):\n",
    "    \"\"\"\n",
    "    Transformar dataframe convirtiendo algunas variables no\n",
    "    numéricas en numéricas y eliminando otras.\n",
    "    \"\"\"\n",
    "\n",
    "    new_dataframe = dataframe.copy()\n",
    "    \n",
    "    # Eliminar índices, IDs y variables compuestas.\n",
    "    new_dataframe.drop(\n",
    "        columns=[\n",
    "            'COD_ID', 'PAC_1', 'PAC_2', 'geometry', 'TR_S_geometry',\n",
    "            'g_dispersion', 'TR_S_COD_ID', 'UNI_TR_S', 'TR_S_BARR_1',\n",
    "            'TR_S_BARR_2'\n",
    "        ],\n",
    "        inplace=True,\n",
    "        errors='ignore'\n",
    "    )\n",
    "\n",
    "    # Eliminar las siguientes variables dado que:\n",
    "    # TR_S_BARR_3 == '' para todas las filas,\n",
    "    # DIST == 46 para todas las filas,\n",
    "    # CONF == 'RA' para todas las filas excepto una,\n",
    "    # POSTO == 'PT' para todas las filas,\n",
    "    # BANC == 0 para todas la filas,\n",
    "    # MRT == 0 para todas la filas,\n",
    "    # DESCR = '' para todas las filas,\n",
    "    # SIT_ATIV = 'AT' para todas las filas excepto una,\n",
    "    # TIP_UNID = 38 para todas las filas,\n",
    "    # ATRB_PER = 1 para casi todas las filas,\n",
    "    # CAP_CHA = 1 para casi todas las filas,\n",
    "    # POS = 'PD' para casi todas las filas.\n",
    "    new_dataframe.drop(\n",
    "        columns=[\n",
    "            'TR_S_BARR_3', 'DIST', 'CONF', 'POSTO', 'BANC', 'MRT', 'DESCR',\n",
    "            'SIT_ATIV', 'TIP_UNID', 'ATRB_PER', 'CAP_CHA', 'POS'\n",
    "        ],\n",
    "        inplace=True,\n",
    "        errors='ignore'\n",
    "    )\n",
    "\n",
    "    # Eliminar DIC (vamos a usar FIC).\n",
    "    new_dataframe.drop(columns=['DIC'], inplace=True, errors='ignore')\n",
    "    \n",
    "    # Convertir CAP_ELO en una columna entera.\n",
    "    new_dataframe.CAP_ELO = new_dataframe.CAP_ELO.replace({\n",
    "        '05H': '50', '1H': '100', '2H': '200', '3H': '300', '5H': '500',\n",
    "        '6K': '6000', '10K': '10000', '15K': '15000'\n",
    "    }).astype('int')\n",
    "\n",
    "    # Aplicar codificación one-hot para ARE_LOC.\n",
    "    dummies = pd.get_dummies(new_dataframe.ARE_LOC)\n",
    "    for dummy_col_name in dummies.columns:\n",
    "        new_dataframe['ARE_LOC_is_{}'.format(dummy_col_name)] = dummies[dummy_col_name]\n",
    "\n",
    "    # Algunas filas tienen varios valores de CNAE. Esto ocurre porque hay algunos\n",
    "    # transformadores de distribución para los cuales existen dos o más\n",
    "    # actividades económicas populares entre sus consumidores.\n",
    "    # Como los casos son pocos, para simplificar el conjunto de datos, quedémonos\n",
    "    # sólo con un valor de CNAE para cada fila que tenga múltiples valores.\n",
    "    new_dataframe.CNAE = new_dataframe.CNAE.str.replace(\"'\", \"\").str.strip('[]').apply(\n",
    "        lambda value: value.split(' ')[-1]\n",
    "    )\n",
    "\n",
    "    # Aplicar codificación one-hot a CNAE (sólo valores más comunes).\n",
    "    cnae_counts = new_dataframe.CNAE.value_counts()\n",
    "    common_cnae_values = cnae_counts[:3].keys()\n",
    "    dummies = pd.get_dummies(\n",
    "        new_dataframe.CNAE.apply(\n",
    "            lambda value: value if value in common_cnae_values else 'uncommon'\n",
    "        )\n",
    "    )\n",
    "    for dummy_col_name in dummies.columns:\n",
    "        new_dataframe['CNAE_is_{}'.format(dummy_col_name)] = dummies[dummy_col_name]\n",
    "\n",
    "    # Calcular edades de conexión en días. Luego eliminaremos las columnas\n",
    "    # DAT_CON y TR_S_DAT_CON porque no son numéricas.\n",
    "    connection_age = datetime.datetime.now() - new_dataframe.DAT_CON\n",
    "    new_dataframe['connection_age_days'] = connection_age.apply(\n",
    "        lambda value: value.days\n",
    "    )\n",
    "    sub_connection_age = datetime.datetime.now() - new_dataframe.TR_S_DAT_CON\n",
    "    new_dataframe['TR_S_connection_age_days'] = sub_connection_age.apply(\n",
    "        lambda value: value.days\n",
    "    )\n",
    "\n",
    "    # Separar filas de acurdo a si el valor de PAC_3 se conoce o no. Luego\n",
    "    # eliminaremos PAC_3 porque no es numérica.\n",
    "    new_dataframe['PAC_3_known'] = new_dataframe.PAC_3.apply(\n",
    "        lambda value: 0 if value == '0' else 1\n",
    "    )\n",
    "\n",
    "    # Aplicar codificación one-hot para FAS_CON_*.\n",
    "    for col_name in ['FAS_CON_P', 'FAS_CON_S', 'FAS_CON_T']:\n",
    "        dummies = pd.get_dummies(new_dataframe[col_name])\n",
    "        for dummy_col_name in dummies.columns:\n",
    "            new_dataframe['{}_is_{}'.format(col_name, dummy_col_name)] = dummies[dummy_col_name]\n",
    "\n",
    "    # Aplicar codificación one-hot para ARE_LOC.\n",
    "    dummies = pd.get_dummies(new_dataframe.CTMT)\n",
    "    for dummy_col_name in dummies.columns:\n",
    "        new_dataframe['CTMT_is_{}'.format(dummy_col_name)] = dummies[dummy_col_name]\n",
    "\n",
    "    # Aplicar codificación one-hot para SUB.\n",
    "    dummies = pd.get_dummies(new_dataframe.SUB)\n",
    "    for dummy_col_name in dummies.columns:\n",
    "        new_dataframe['SUB_is_{}'.format(dummy_col_name)] = dummies[dummy_col_name]\n",
    "\n",
    "    # Aplicar codificación one-hot para TIP_TRAFO.\n",
    "    dummies = pd.get_dummies(new_dataframe.TIP_TRAFO)\n",
    "    for dummy_col_name in dummies.columns:\n",
    "        new_dataframe['TIP_TRAFO_is_{}'.format(dummy_col_name)] = dummies[dummy_col_name]\n",
    "\n",
    "    # Quitar columnas que no sean numéricas.\n",
    "    new_dataframe.drop(\n",
    "        columns=[\n",
    "            'ARE_LOC', 'CNAE', 'DAT_CON', 'TR_S_DAT_CON', 'PAC_3', 'FAS_CON_P',\n",
    "            'FAS_CON_S', 'FAS_CON_T', 'CTMT', 'SUB', 'TIP_TRAFO'\n",
    "        ],\n",
    "        inplace=True,\n",
    "        errors='ignore'\n",
    "    )\n",
    "\n",
    "    return new_dataframe"
   ]
  },
  {
   "cell_type": "code",
   "execution_count": 3,
   "metadata": {
    "id": "hm69f-yVM8tb"
   },
   "outputs": [],
   "source": [
    "dataframe = pd.read_csv(\n",
    "    './data/curated_data.csv',\n",
    "    sep='\\t',\n",
    "    parse_dates=['DAT_CON', 'TR_S_DAT_CON'],\n",
    "    date_parser=lambda x: datetime.datetime.strptime(x, '%d/%m/%Y')\n",
    ")"
   ]
  },
  {
   "cell_type": "code",
   "execution_count": 4,
   "metadata": {},
   "outputs": [
    {
     "data": {
      "text/plain": [
       "Index(['COD_ID', 'CONJ', 'MUN', 'ARE_LOC', 'geometry', 'UNI_TR_S', 'DIC',\n",
       "       'FIC', 'CNAE', 'ENE_01', 'ENE_02', 'ENE_03', 'ENE_04', 'ENE_05',\n",
       "       'ENE_06', 'ENE_07', 'ENE_08', 'ENE_09', 'ENE_10', 'ENE_11', 'ENE_12',\n",
       "       'TR_S_COD_ID', 'TR_S_BARR_1', 'TR_S_BARR_2', 'TR_S_BARR_3',\n",
       "       'TR_S_POT_NOM', 'TR_S_PER_FER', 'TR_S_PER_TOT', 'TR_S_DAT_CON',\n",
       "       'TR_S_CONJ', 'TR_S_MUN', 'TR_S_geometry', 'TR_S_ENES_01',\n",
       "       'TR_S_ENES_02', 'TR_S_ENES_03', 'TR_S_ENES_04', 'TR_S_ENES_05',\n",
       "       'TR_S_ENES_06', 'TR_S_ENES_07', 'TR_S_ENES_08', 'TR_S_ENES_09',\n",
       "       'TR_S_ENES_10', 'TR_S_ENES_11', 'TR_S_ENES_12', 'TR_S_DIST', 'DIST',\n",
       "       'PAC_1', 'PAC_2', 'PAC_3', 'FAS_CON_P', 'FAS_CON_S', 'FAS_CON_T',\n",
       "       'SIT_ATIV', 'TIP_UNID', 'POS', 'ATRB_PER', 'TEN_LIN_SE', 'CAP_ELO',\n",
       "       'CAP_CHA', 'TAP', 'CONF', 'POSTO', 'POT_NOM', 'PER_FER', 'PER_TOT',\n",
       "       'DAT_CON', 'CTMT', 'SUB', 'BANC', 'TIP_TRAFO', 'MRT', 'DESCR',\n",
       "       'n_close_con', 'is_urb', 'NODE', 'ENDNODE', 'g_degree', 'g_avg_ndeg',\n",
       "       'g_pagerank', 'g_dispersion', 'eigenvector_centrality',\n",
       "       'dist_to_trs_dijkstra'],\n",
       "      dtype='object')"
      ]
     },
     "execution_count": 4,
     "metadata": {},
     "output_type": "execute_result"
    }
   ],
   "source": [
    "dataframe.columns"
   ]
  },
  {
   "cell_type": "code",
   "execution_count": 37,
   "metadata": {
    "id": "DItM-OERM8wB"
   },
   "outputs": [
    {
     "data": {
      "text/html": [
       "<div>\n",
       "<style scoped>\n",
       "    .dataframe tbody tr th:only-of-type {\n",
       "        vertical-align: middle;\n",
       "    }\n",
       "\n",
       "    .dataframe tbody tr th {\n",
       "        vertical-align: top;\n",
       "    }\n",
       "\n",
       "    .dataframe thead th {\n",
       "        text-align: right;\n",
       "    }\n",
       "</style>\n",
       "<table border=\"1\" class=\"dataframe\">\n",
       "  <thead>\n",
       "    <tr style=\"text-align: right;\">\n",
       "      <th></th>\n",
       "      <th>CONJ</th>\n",
       "      <th>MUN</th>\n",
       "      <th>ENE_01</th>\n",
       "      <th>ENE_02</th>\n",
       "      <th>ENE_03</th>\n",
       "      <th>ENE_04</th>\n",
       "      <th>ENE_05</th>\n",
       "      <th>ENE_06</th>\n",
       "      <th>ENE_07</th>\n",
       "      <th>ENE_08</th>\n",
       "      <th>...</th>\n",
       "      <th>CTMT_is_6_SEEST_1</th>\n",
       "      <th>CTMT_is_7_SEEST_1</th>\n",
       "      <th>SUB_is_SEAUA</th>\n",
       "      <th>SUB_is_SECON</th>\n",
       "      <th>SUB_is_SEEST</th>\n",
       "      <th>SUB_is_SEITI</th>\n",
       "      <th>SUB_is_SESAQ</th>\n",
       "      <th>SUB_is_SETMG</th>\n",
       "      <th>TIP_TRAFO_is_MT</th>\n",
       "      <th>TIP_TRAFO_is_T</th>\n",
       "    </tr>\n",
       "  </thead>\n",
       "  <tbody>\n",
       "    <tr>\n",
       "      <th>4984</th>\n",
       "      <td>15602</td>\n",
       "      <td>2806305</td>\n",
       "      <td>2703</td>\n",
       "      <td>2565</td>\n",
       "      <td>2463</td>\n",
       "      <td>2790</td>\n",
       "      <td>2656</td>\n",
       "      <td>2551</td>\n",
       "      <td>2759</td>\n",
       "      <td>2074</td>\n",
       "      <td>...</td>\n",
       "      <td>0</td>\n",
       "      <td>0</td>\n",
       "      <td>0</td>\n",
       "      <td>0</td>\n",
       "      <td>1</td>\n",
       "      <td>0</td>\n",
       "      <td>0</td>\n",
       "      <td>0</td>\n",
       "      <td>0</td>\n",
       "      <td>1</td>\n",
       "    </tr>\n",
       "    <tr>\n",
       "      <th>5798</th>\n",
       "      <td>15600</td>\n",
       "      <td>2805109</td>\n",
       "      <td>519</td>\n",
       "      <td>410</td>\n",
       "      <td>386</td>\n",
       "      <td>403</td>\n",
       "      <td>664</td>\n",
       "      <td>649</td>\n",
       "      <td>802</td>\n",
       "      <td>805</td>\n",
       "      <td>...</td>\n",
       "      <td>0</td>\n",
       "      <td>0</td>\n",
       "      <td>1</td>\n",
       "      <td>0</td>\n",
       "      <td>0</td>\n",
       "      <td>0</td>\n",
       "      <td>0</td>\n",
       "      <td>0</td>\n",
       "      <td>1</td>\n",
       "      <td>0</td>\n",
       "    </tr>\n",
       "    <tr>\n",
       "      <th>5339</th>\n",
       "      <td>15602</td>\n",
       "      <td>2802106</td>\n",
       "      <td>23121</td>\n",
       "      <td>26566</td>\n",
       "      <td>22821</td>\n",
       "      <td>25358</td>\n",
       "      <td>26446</td>\n",
       "      <td>23078</td>\n",
       "      <td>22513</td>\n",
       "      <td>22757</td>\n",
       "      <td>...</td>\n",
       "      <td>0</td>\n",
       "      <td>0</td>\n",
       "      <td>0</td>\n",
       "      <td>0</td>\n",
       "      <td>1</td>\n",
       "      <td>0</td>\n",
       "      <td>0</td>\n",
       "      <td>0</td>\n",
       "      <td>0</td>\n",
       "      <td>1</td>\n",
       "    </tr>\n",
       "    <tr>\n",
       "      <th>4963</th>\n",
       "      <td>15602</td>\n",
       "      <td>2802106</td>\n",
       "      <td>88</td>\n",
       "      <td>94</td>\n",
       "      <td>75</td>\n",
       "      <td>75</td>\n",
       "      <td>114</td>\n",
       "      <td>146</td>\n",
       "      <td>68</td>\n",
       "      <td>72</td>\n",
       "      <td>...</td>\n",
       "      <td>0</td>\n",
       "      <td>0</td>\n",
       "      <td>0</td>\n",
       "      <td>0</td>\n",
       "      <td>1</td>\n",
       "      <td>0</td>\n",
       "      <td>0</td>\n",
       "      <td>0</td>\n",
       "      <td>1</td>\n",
       "      <td>0</td>\n",
       "    </tr>\n",
       "    <tr>\n",
       "      <th>7354</th>\n",
       "      <td>15601</td>\n",
       "      <td>2803005</td>\n",
       "      <td>26</td>\n",
       "      <td>34</td>\n",
       "      <td>29</td>\n",
       "      <td>22</td>\n",
       "      <td>15</td>\n",
       "      <td>11</td>\n",
       "      <td>0</td>\n",
       "      <td>10</td>\n",
       "      <td>...</td>\n",
       "      <td>0</td>\n",
       "      <td>0</td>\n",
       "      <td>0</td>\n",
       "      <td>0</td>\n",
       "      <td>0</td>\n",
       "      <td>1</td>\n",
       "      <td>0</td>\n",
       "      <td>0</td>\n",
       "      <td>1</td>\n",
       "      <td>0</td>\n",
       "    </tr>\n",
       "    <tr>\n",
       "      <th>...</th>\n",
       "      <td>...</td>\n",
       "      <td>...</td>\n",
       "      <td>...</td>\n",
       "      <td>...</td>\n",
       "      <td>...</td>\n",
       "      <td>...</td>\n",
       "      <td>...</td>\n",
       "      <td>...</td>\n",
       "      <td>...</td>\n",
       "      <td>...</td>\n",
       "      <td>...</td>\n",
       "      <td>...</td>\n",
       "      <td>...</td>\n",
       "      <td>...</td>\n",
       "      <td>...</td>\n",
       "      <td>...</td>\n",
       "      <td>...</td>\n",
       "      <td>...</td>\n",
       "      <td>...</td>\n",
       "      <td>...</td>\n",
       "      <td>...</td>\n",
       "    </tr>\n",
       "    <tr>\n",
       "      <th>5734</th>\n",
       "      <td>15600</td>\n",
       "      <td>2800407</td>\n",
       "      <td>117906</td>\n",
       "      <td>108980</td>\n",
       "      <td>116996</td>\n",
       "      <td>114362</td>\n",
       "      <td>117782</td>\n",
       "      <td>112401</td>\n",
       "      <td>115085</td>\n",
       "      <td>119218</td>\n",
       "      <td>...</td>\n",
       "      <td>0</td>\n",
       "      <td>0</td>\n",
       "      <td>1</td>\n",
       "      <td>0</td>\n",
       "      <td>0</td>\n",
       "      <td>0</td>\n",
       "      <td>0</td>\n",
       "      <td>0</td>\n",
       "      <td>0</td>\n",
       "      <td>1</td>\n",
       "    </tr>\n",
       "    <tr>\n",
       "      <th>5191</th>\n",
       "      <td>15602</td>\n",
       "      <td>2802106</td>\n",
       "      <td>0</td>\n",
       "      <td>0</td>\n",
       "      <td>0</td>\n",
       "      <td>0</td>\n",
       "      <td>0</td>\n",
       "      <td>0</td>\n",
       "      <td>0</td>\n",
       "      <td>0</td>\n",
       "      <td>...</td>\n",
       "      <td>0</td>\n",
       "      <td>1</td>\n",
       "      <td>0</td>\n",
       "      <td>0</td>\n",
       "      <td>1</td>\n",
       "      <td>0</td>\n",
       "      <td>0</td>\n",
       "      <td>0</td>\n",
       "      <td>1</td>\n",
       "      <td>0</td>\n",
       "    </tr>\n",
       "    <tr>\n",
       "      <th>5390</th>\n",
       "      <td>15602</td>\n",
       "      <td>2802106</td>\n",
       "      <td>0</td>\n",
       "      <td>0</td>\n",
       "      <td>0</td>\n",
       "      <td>0</td>\n",
       "      <td>236</td>\n",
       "      <td>1247</td>\n",
       "      <td>948</td>\n",
       "      <td>1009</td>\n",
       "      <td>...</td>\n",
       "      <td>1</td>\n",
       "      <td>0</td>\n",
       "      <td>0</td>\n",
       "      <td>0</td>\n",
       "      <td>1</td>\n",
       "      <td>0</td>\n",
       "      <td>0</td>\n",
       "      <td>0</td>\n",
       "      <td>0</td>\n",
       "      <td>1</td>\n",
       "    </tr>\n",
       "    <tr>\n",
       "      <th>860</th>\n",
       "      <td>12737</td>\n",
       "      <td>2807402</td>\n",
       "      <td>433</td>\n",
       "      <td>384</td>\n",
       "      <td>438</td>\n",
       "      <td>376</td>\n",
       "      <td>345</td>\n",
       "      <td>389</td>\n",
       "      <td>349</td>\n",
       "      <td>419</td>\n",
       "      <td>...</td>\n",
       "      <td>0</td>\n",
       "      <td>0</td>\n",
       "      <td>0</td>\n",
       "      <td>0</td>\n",
       "      <td>0</td>\n",
       "      <td>0</td>\n",
       "      <td>1</td>\n",
       "      <td>0</td>\n",
       "      <td>1</td>\n",
       "      <td>0</td>\n",
       "    </tr>\n",
       "    <tr>\n",
       "      <th>7270</th>\n",
       "      <td>15601</td>\n",
       "      <td>2803005</td>\n",
       "      <td>470</td>\n",
       "      <td>369</td>\n",
       "      <td>365</td>\n",
       "      <td>310</td>\n",
       "      <td>332</td>\n",
       "      <td>325</td>\n",
       "      <td>360</td>\n",
       "      <td>378</td>\n",
       "      <td>...</td>\n",
       "      <td>0</td>\n",
       "      <td>0</td>\n",
       "      <td>0</td>\n",
       "      <td>0</td>\n",
       "      <td>0</td>\n",
       "      <td>1</td>\n",
       "      <td>0</td>\n",
       "      <td>0</td>\n",
       "      <td>1</td>\n",
       "      <td>0</td>\n",
       "    </tr>\n",
       "  </tbody>\n",
       "</table>\n",
       "<p>6183 rows × 96 columns</p>\n",
       "</div>"
      ],
      "text/plain": [
       "       CONJ      MUN  ENE_01  ENE_02  ENE_03  ENE_04  ENE_05  ENE_06  ENE_07  \\\n",
       "4984  15602  2806305    2703    2565    2463    2790    2656    2551    2759   \n",
       "5798  15600  2805109     519     410     386     403     664     649     802   \n",
       "5339  15602  2802106   23121   26566   22821   25358   26446   23078   22513   \n",
       "4963  15602  2802106      88      94      75      75     114     146      68   \n",
       "7354  15601  2803005      26      34      29      22      15      11       0   \n",
       "...     ...      ...     ...     ...     ...     ...     ...     ...     ...   \n",
       "5734  15600  2800407  117906  108980  116996  114362  117782  112401  115085   \n",
       "5191  15602  2802106       0       0       0       0       0       0       0   \n",
       "5390  15602  2802106       0       0       0       0     236    1247     948   \n",
       "860   12737  2807402     433     384     438     376     345     389     349   \n",
       "7270  15601  2803005     470     369     365     310     332     325     360   \n",
       "\n",
       "      ENE_08  ...  CTMT_is_6_SEEST_1  CTMT_is_7_SEEST_1  SUB_is_SEAUA  \\\n",
       "4984    2074  ...                  0                  0             0   \n",
       "5798     805  ...                  0                  0             1   \n",
       "5339   22757  ...                  0                  0             0   \n",
       "4963      72  ...                  0                  0             0   \n",
       "7354      10  ...                  0                  0             0   \n",
       "...      ...  ...                ...                ...           ...   \n",
       "5734  119218  ...                  0                  0             1   \n",
       "5191       0  ...                  0                  1             0   \n",
       "5390    1009  ...                  1                  0             0   \n",
       "860      419  ...                  0                  0             0   \n",
       "7270     378  ...                  0                  0             0   \n",
       "\n",
       "      SUB_is_SECON  SUB_is_SEEST  SUB_is_SEITI  SUB_is_SESAQ  SUB_is_SETMG  \\\n",
       "4984             0             1             0             0             0   \n",
       "5798             0             0             0             0             0   \n",
       "5339             0             1             0             0             0   \n",
       "4963             0             1             0             0             0   \n",
       "7354             0             0             1             0             0   \n",
       "...            ...           ...           ...           ...           ...   \n",
       "5734             0             0             0             0             0   \n",
       "5191             0             1             0             0             0   \n",
       "5390             0             1             0             0             0   \n",
       "860              0             0             0             1             0   \n",
       "7270             0             0             1             0             0   \n",
       "\n",
       "      TIP_TRAFO_is_MT  TIP_TRAFO_is_T  \n",
       "4984                0               1  \n",
       "5798                1               0  \n",
       "5339                0               1  \n",
       "4963                1               0  \n",
       "7354                1               0  \n",
       "...               ...             ...  \n",
       "5734                0               1  \n",
       "5191                1               0  \n",
       "5390                0               1  \n",
       "860                 1               0  \n",
       "7270                1               0  \n",
       "\n",
       "[6183 rows x 96 columns]"
      ]
     },
     "execution_count": 37,
     "metadata": {},
     "output_type": "execute_result"
    }
   ],
   "source": [
    "# Partir conjunto de datos en conjuntos de entrenamiento y validación.\n",
    "X_train, X_valid, y_train, y_valid = train_test_split(\n",
    "    transform_data(dataframe.drop(columns=['FIC'])),\n",
    "    dataframe.FIC,\n",
    "    test_size=0.3,\n",
    "    random_state=42\n",
    ")\n",
    "X_train"
   ]
  },
  {
   "cell_type": "markdown",
   "metadata": {
    "id": "nMEJ2NvgLGqW"
   },
   "source": [
    "## Baseline\n",
    "\n",
    "En este practico estaremos utilizando nuevamente un modelo XGBoost, ya que nos permite obtener buenos resultados de manera rapida y ademas cuenta con numerosos hiperparametros que podremos ajustar para optimizar su performance.\n",
    "\n",
    "Para comenzar definiremos un baseline utilizando los hiperparametros por defecto.\n",
    "\n",
    "Entrene un modelo XGBoost basico, utilizando los hiperparametros por defecto, seleccione una metrica de error y presente el resultado."
   ]
  },
  {
   "cell_type": "code",
   "execution_count": 6,
   "metadata": {
    "id": "T3pqwbB0LF5i"
   },
   "outputs": [
    {
     "data": {
      "text/html": [
       "<div>\n",
       "<style scoped>\n",
       "    .dataframe tbody tr th:only-of-type {\n",
       "        vertical-align: middle;\n",
       "    }\n",
       "\n",
       "    .dataframe tbody tr th {\n",
       "        vertical-align: top;\n",
       "    }\n",
       "\n",
       "    .dataframe thead th {\n",
       "        text-align: right;\n",
       "    }\n",
       "</style>\n",
       "<table border=\"1\" class=\"dataframe\">\n",
       "  <thead>\n",
       "    <tr style=\"text-align: right;\">\n",
       "      <th></th>\n",
       "      <th>R squared</th>\n",
       "      <th>Mean absolute error</th>\n",
       "      <th>Mean squared error</th>\n",
       "    </tr>\n",
       "  </thead>\n",
       "  <tbody>\n",
       "    <tr>\n",
       "      <th>Training</th>\n",
       "      <td>0.950245</td>\n",
       "      <td>0.636998</td>\n",
       "      <td>0.743569</td>\n",
       "    </tr>\n",
       "    <tr>\n",
       "      <th>Validation</th>\n",
       "      <td>0.729571</td>\n",
       "      <td>1.473470</td>\n",
       "      <td>4.014440</td>\n",
       "    </tr>\n",
       "  </tbody>\n",
       "</table>\n",
       "</div>"
      ],
      "text/plain": [
       "            R squared  Mean absolute error  Mean squared error\n",
       "Training     0.950245             0.636998            0.743569\n",
       "Validation   0.729571             1.473470            4.014440"
      ]
     },
     "metadata": {},
     "output_type": "display_data"
    },
    {
     "data": {
      "text/html": [
       "<div>\n",
       "<style scoped>\n",
       "    .dataframe tbody tr th:only-of-type {\n",
       "        vertical-align: middle;\n",
       "    }\n",
       "\n",
       "    .dataframe tbody tr th {\n",
       "        vertical-align: top;\n",
       "    }\n",
       "\n",
       "    .dataframe thead th {\n",
       "        text-align: right;\n",
       "    }\n",
       "</style>\n",
       "<table border=\"1\" class=\"dataframe\">\n",
       "  <thead>\n",
       "    <tr style=\"text-align: right;\">\n",
       "      <th></th>\n",
       "      <th>Prediction</th>\n",
       "      <th>Real</th>\n",
       "      <th>Error</th>\n",
       "    </tr>\n",
       "  </thead>\n",
       "  <tbody>\n",
       "    <tr>\n",
       "      <th>5900</th>\n",
       "      <td>6.199479</td>\n",
       "      <td>7.0</td>\n",
       "      <td>0.800521</td>\n",
       "    </tr>\n",
       "    <tr>\n",
       "      <th>2638</th>\n",
       "      <td>8.953698</td>\n",
       "      <td>9.0</td>\n",
       "      <td>0.046302</td>\n",
       "    </tr>\n",
       "    <tr>\n",
       "      <th>8486</th>\n",
       "      <td>6.619398</td>\n",
       "      <td>5.0</td>\n",
       "      <td>1.619398</td>\n",
       "    </tr>\n",
       "    <tr>\n",
       "      <th>5829</th>\n",
       "      <td>7.380610</td>\n",
       "      <td>5.0</td>\n",
       "      <td>2.380610</td>\n",
       "    </tr>\n",
       "    <tr>\n",
       "      <th>1649</th>\n",
       "      <td>13.853436</td>\n",
       "      <td>16.0</td>\n",
       "      <td>2.146564</td>\n",
       "    </tr>\n",
       "    <tr>\n",
       "      <th>4506</th>\n",
       "      <td>4.213604</td>\n",
       "      <td>1.5</td>\n",
       "      <td>2.713604</td>\n",
       "    </tr>\n",
       "    <tr>\n",
       "      <th>6512</th>\n",
       "      <td>4.056597</td>\n",
       "      <td>4.0</td>\n",
       "      <td>0.056597</td>\n",
       "    </tr>\n",
       "    <tr>\n",
       "      <th>3332</th>\n",
       "      <td>3.763713</td>\n",
       "      <td>1.0</td>\n",
       "      <td>2.763713</td>\n",
       "    </tr>\n",
       "    <tr>\n",
       "      <th>624</th>\n",
       "      <td>7.164544</td>\n",
       "      <td>7.0</td>\n",
       "      <td>0.164544</td>\n",
       "    </tr>\n",
       "    <tr>\n",
       "      <th>6350</th>\n",
       "      <td>5.260092</td>\n",
       "      <td>7.0</td>\n",
       "      <td>1.739908</td>\n",
       "    </tr>\n",
       "  </tbody>\n",
       "</table>\n",
       "</div>"
      ],
      "text/plain": [
       "      Prediction  Real     Error\n",
       "5900    6.199479   7.0  0.800521\n",
       "2638    8.953698   9.0  0.046302\n",
       "8486    6.619398   5.0  1.619398\n",
       "5829    7.380610   5.0  2.380610\n",
       "1649   13.853436  16.0  2.146564\n",
       "4506    4.213604   1.5  2.713604\n",
       "6512    4.056597   4.0  0.056597\n",
       "3332    3.763713   1.0  2.763713\n",
       "624     7.164544   7.0  0.164544\n",
       "6350    5.260092   7.0  1.739908"
      ]
     },
     "metadata": {},
     "output_type": "display_data"
    }
   ],
   "source": [
    "regressor = xgb.XGBRegressor(random_state=42)\n",
    "\n",
    "regressor.fit(X_train, y_train)\n",
    "\n",
    "y_train_baseline = regressor.predict(X_train)\n",
    "y_valid_baseline = regressor.predict(X_valid)\n",
    "\n",
    "display_evaluation_errors(y_train, y_train_baseline, y_valid, y_valid_baseline)\n",
    "display_evaluation_table(y_valid, y_valid_baseline)"
   ]
  },
  {
   "cell_type": "code",
   "execution_count": 7,
   "metadata": {
    "id": "VT7Xh-vaNZe6"
   },
   "outputs": [
    {
     "data": {
      "image/png": "[encoded data removed]",
      "text/plain": [
       "<Figure size 576x396 with 2 Axes>"
      ]
     },
     "metadata": {},
     "output_type": "display_data"
    },
    {
     "ename": "NameError",
     "evalue": "name 'y_valid_pred' is not defined",
     "output_type": "error",
     "traceback": [
      "\u001b[0;31m---------------------------------------------------------------------------\u001b[0m",
      "\u001b[0;31mNameError\u001b[0m                                 Traceback (most recent call last)",
      "\u001b[0;32m<ipython-input-7-7b59dd40348c>\u001b[0m in \u001b[0;36m<module>\u001b[0;34m\u001b[0m\n\u001b[1;32m      1\u001b[0m \u001b[0mshow_residuals_plot\u001b[0m\u001b[0;34m(\u001b[0m\u001b[0mregressor\u001b[0m\u001b[0;34m,\u001b[0m \u001b[0mX_train\u001b[0m\u001b[0;34m,\u001b[0m \u001b[0my_train\u001b[0m\u001b[0;34m,\u001b[0m \u001b[0mX_valid\u001b[0m\u001b[0;34m,\u001b[0m \u001b[0my_valid\u001b[0m\u001b[0;34m)\u001b[0m\u001b[0;34m\u001b[0m\u001b[0;34m\u001b[0m\u001b[0m\n\u001b[0;32m----> 2\u001b[0;31m \u001b[0mshow_qq_plot\u001b[0m\u001b[0;34m(\u001b[0m\u001b[0my_valid\u001b[0m\u001b[0;34m,\u001b[0m \u001b[0my_valid_pred\u001b[0m\u001b[0;34m)\u001b[0m\u001b[0;34m\u001b[0m\u001b[0;34m\u001b[0m\u001b[0m\n\u001b[0m",
      "\u001b[0;31mNameError\u001b[0m: name 'y_valid_pred' is not defined"
     ]
    }
   ],
   "source": [
    "show_residuals_plot(regressor, X_train, y_train, X_valid, y_valid)\n",
    "show_qq_plot(y_valid, y_valid_pred)"
   ]
  },
  {
   "cell_type": "markdown",
   "metadata": {
    "id": "ncjW50mLG6nf"
   },
   "source": [
    "## Seleccion de variables\n",
    "\n",
    "La seleccion de variables es un proceso a traves del cual se intentan distinguir las variables que aportan valor de prediccion de las que no, y de esta forma quedarnos solamente con aquellas que impacten positivamente en nuestro algoritmo.\n",
    "\n",
    "Esto nos traera multiples beneficios, al simplificar el modelo reducimos el riesgo de overfitting, disminuimos el costo computacional de entrenamiento y prediccion y reducimos el ruido introducido por las variables de poco valor.\n",
    "\n",
    "Existen diversas formas de llevar a cabo este proyecto:\n",
    "  - Filtros o Reglas: Se especifica alguna metrica o valor estadistico y se eliminan las features que no lo cumplan. Ej: Correlacion maxima entre variables, correlacion minima con la variable de salida, colinealidad entre variables, cantidad de valores nulos.\n",
    "\n",
    "  - Wrapper Base: Son metodos que se plantean como problemas de busqueda, como por ejemplo la eliminacion recursiva de variables.\n",
    "\n",
    "  - Metodos embebidos: Algunos metodos de estimacion poseen procesos internos de clasificacion de variables, en donde se le asigna un nivel de importancia a cada una de ellas que puede luego ser utilizado para conocer su importancia. Ejemplos clasicos son los coeficientes de la regresion de Lasso o el feature importance en implementaciones basadas en arboles como XGBoost.\n",
    "\n",
    "En base al baseline calculado en el punto anterior comience seleccionando las 50 variables mas importantes en base a la informacion provista por XGBoost."
   ]
  },
  {
   "cell_type": "code",
   "execution_count": null,
   "metadata": {},
   "outputs": [],
   "source": [
    "# from statsmodels.stats.outliers_influence import variance_inflation_factor\n",
    "\n",
    "# def calc_vif(X):\n",
    "\n",
    "#     # Calculating VIF\n",
    "#     vif = pd.DataFrame()\n",
    "#     vif[\"variables\"] = X.columns\n",
    "#     vif[\"VIF\"] = [variance_inflation_factor(X.values, i) for i in range(X.shape[1])]\n",
    "\n",
    "#     return(vif)"
   ]
  },
  {
   "cell_type": "code",
   "execution_count": null,
   "metadata": {},
   "outputs": [],
   "source": [
    "# #X = transform_data(dataframe.drop(columns=['FIC']))#.iloc[:,:-1]\n",
    "# calc_vif(X)"
   ]
  },
  {
   "cell_type": "code",
   "execution_count": 8,
   "metadata": {
    "id": "Zm43gk9ERkkZ"
   },
   "outputs": [
    {
     "data": {
      "text/plain": [
       "Index(['TR_S_connection_age_days', 'SUB_is_SEITI', 'FAS_CON_P_is_AB',\n",
       "       'CTMT_is_1_SETMG_1', 'ARE_LOC_is_NU', 'CTMT_is_3_SEEST_1',\n",
       "       'CTMT_is_5_SEEST_1', 'ENDNODE', 'CTMT_is_3_SESAQ_1',\n",
       "       'CTMT_is_3_SETMG_1', 'CTMT_is_2_SEEST_1', 'CTMT_is_2_SETMG_1',\n",
       "       'CTMT_is_1_SEITI_1', 'CTMT_is_2_SECON_1', 'CTMT_is_2_SEITI_1',\n",
       "       'dist_to_trs_dijkstra', 'CTMT_is_4_SEITI_1', 'CTMT_is_3_SEAUA_1',\n",
       "       'CTMT_is_6_SEEST_1', 'TR_S_POT_NOM', 'CTMT_is_2_SESAQ_1',\n",
       "       'CTMT_is_3_SEITI_1', 'MUN', 'TR_S_DIST', 'NODE', 'PER_FER',\n",
       "       'CTMT_is_4_SEAUA_1', 'CTMT_is_3_SECON_1', 'TR_S_MUN', 'CNAE_is_0',\n",
       "       'connection_age_days', 'PAC_3_known', 'ENE_11', 'ENE_03', 'POT_NOM',\n",
       "       'CTMT_is_1_SESAQ_1', 'FAS_CON_P_is_BC', 'TR_S_ENES_01', 'ENE_02',\n",
       "       'ENE_10', 'n_close_con', 'ENE_07', 'ENE_06', 'ENE_04', 'TR_S_ENES_04',\n",
       "       'ENE_09', 'TAP', 'ENE_05', 'TEN_LIN_SE', 'CAP_ELO'],\n",
       "      dtype='object')"
      ]
     },
     "execution_count": 8,
     "metadata": {},
     "output_type": "execute_result"
    }
   ],
   "source": [
    "most_important_col_names = X_train.columns[\n",
    "    regressor.feature_importances_.argsort()[-50:][::-1]\n",
    "]\n",
    "most_important_col_names"
   ]
  },
  {
   "cell_type": "markdown",
   "metadata": {
    "id": "OHUcJdAyRkxe"
   },
   "source": [
    "A partir del punto anterior calcule el error para diferentes cantidades de variables, realize un grafico de numero de variables vs error, seleccione el valor de mejor performance y justique."
   ]
  },
  {
   "cell_type": "code",
   "execution_count": 9,
   "metadata": {
    "id": "aPluDiPBRlHL"
   },
   "outputs": [],
   "source": [
    "# **IMPORTANTE**: ver colinealidad entre varaibles, que no haya demasiada.\n",
    "# https://www.analyticsvidhya.com/blog/2020/03/what-is-multicollinearity/"
   ]
  },
  {
   "cell_type": "code",
   "execution_count": 10,
   "metadata": {},
   "outputs": [],
   "source": [
    "n_col_vs_error_data = {\n",
    "    'n_cols': [],\n",
    "    'r2_score': [],\n",
    "    'mean_abs_error': [],\n",
    "    'mean_squared_error': []\n",
    "}\n",
    "col_names = []\n",
    "for col_name in most_important_col_names:\n",
    "    col_names.append(col_name)\n",
    "    \n",
    "    regressor = xgb.XGBRegressor(random_state=42)\n",
    "\n",
    "    regressor.fit(X_train[col_names], y_train)\n",
    "\n",
    "    y_valid_pred = regressor.predict(X_valid[col_names])\n",
    "    \n",
    "    n_col_vs_error_data['n_cols'].append(len(col_names))\n",
    "    n_col_vs_error_data['r2_score'].append(r2_score(y_valid, y_valid_pred))\n",
    "    n_col_vs_error_data['mean_abs_error'].append(mean_absolute_error(y_valid, y_valid_pred))\n",
    "    n_col_vs_error_data['mean_squared_error'].append(mean_squared_error(y_valid, y_valid_pred))\n",
    "\n",
    "n_col_vs_error_df = pd.DataFrame(n_col_vs_error_data);"
   ]
  },
  {
   "cell_type": "code",
   "execution_count": 11,
   "metadata": {},
   "outputs": [
    {
     "data": {
      "image/png": "[encoded data removed]",
      "text/plain": [
       "<Figure size 576x396 with 1 Axes>"
      ]
     },
     "metadata": {},
     "output_type": "display_data"
    }
   ],
   "source": [
    "sns.lineplot(data=n_col_vs_error_df, x='n_cols', y='r2_score')\n",
    "sns.lineplot(data=n_col_vs_error_df, x='n_cols', y='mean_abs_error')\n",
    "sns.lineplot(data=n_col_vs_error_df, x='n_cols', y='mean_squared_error')\n",
    "plt.xlabel('Number of variables')\n",
    "plt.ylabel('Error');"
   ]
  },
  {
   "cell_type": "markdown",
   "metadata": {
    "id": "l8fgdPh2URqB"
   },
   "source": [
    "Genere un nuevo dataset que contenga solamente las variables seleccionadas."
   ]
  },
  {
   "cell_type": "code",
   "execution_count": 38,
   "metadata": {},
   "outputs": [
    {
     "data": {
      "text/plain": [
       "Index(['TR_S_connection_age_days', 'SUB_is_SEITI', 'FAS_CON_P_is_AB',\n",
       "       'CTMT_is_1_SETMG_1', 'ARE_LOC_is_NU', 'CTMT_is_3_SEEST_1',\n",
       "       'CTMT_is_5_SEEST_1', 'ENDNODE', 'CTMT_is_3_SESAQ_1',\n",
       "       'CTMT_is_3_SETMG_1', 'CTMT_is_2_SEEST_1', 'CTMT_is_2_SETMG_1',\n",
       "       'CTMT_is_1_SEITI_1', 'CTMT_is_2_SECON_1', 'CTMT_is_2_SEITI_1',\n",
       "       'dist_to_trs_dijkstra', 'CTMT_is_4_SEITI_1', 'CTMT_is_3_SEAUA_1',\n",
       "       'CTMT_is_6_SEEST_1', 'TR_S_POT_NOM', 'CTMT_is_2_SESAQ_1',\n",
       "       'CTMT_is_3_SEITI_1', 'MUN', 'TR_S_DIST', 'NODE', 'PER_FER',\n",
       "       'CTMT_is_4_SEAUA_1', 'CTMT_is_3_SECON_1', 'TR_S_MUN', 'CNAE_is_0',\n",
       "       'connection_age_days', 'PAC_3_known', 'ENE_11', 'ENE_03'],\n",
       "      dtype='object')"
      ]
     },
     "execution_count": 38,
     "metadata": {},
     "output_type": "execute_result"
    }
   ],
   "source": [
    "selected_col_names = most_important_col_names[:34]\n",
    "selected_col_names"
   ]
  },
  {
   "cell_type": "code",
   "execution_count": 39,
   "metadata": {},
   "outputs": [],
   "source": [
    "X_train = X_train[selected_col_names]\n",
    "X_valid = X_valid[selected_col_names]"
   ]
  },
  {
   "cell_type": "code",
   "execution_count": 14,
   "metadata": {},
   "outputs": [
    {
     "data": {
      "text/html": [
       "<div>\n",
       "<style scoped>\n",
       "    .dataframe tbody tr th:only-of-type {\n",
       "        vertical-align: middle;\n",
       "    }\n",
       "\n",
       "    .dataframe tbody tr th {\n",
       "        vertical-align: top;\n",
       "    }\n",
       "\n",
       "    .dataframe thead th {\n",
       "        text-align: right;\n",
       "    }\n",
       "</style>\n",
       "<table border=\"1\" class=\"dataframe\">\n",
       "  <thead>\n",
       "    <tr style=\"text-align: right;\">\n",
       "      <th></th>\n",
       "      <th>R squared</th>\n",
       "      <th>Mean absolute error</th>\n",
       "      <th>Mean squared error</th>\n",
       "    </tr>\n",
       "  </thead>\n",
       "  <tbody>\n",
       "    <tr>\n",
       "      <th>Training</th>\n",
       "      <td>0.933829</td>\n",
       "      <td>0.728157</td>\n",
       "      <td>0.988903</td>\n",
       "    </tr>\n",
       "    <tr>\n",
       "      <th>Validation</th>\n",
       "      <td>0.734212</td>\n",
       "      <td>1.405142</td>\n",
       "      <td>3.945546</td>\n",
       "    </tr>\n",
       "  </tbody>\n",
       "</table>\n",
       "</div>"
      ],
      "text/plain": [
       "            R squared  Mean absolute error  Mean squared error\n",
       "Training     0.933829             0.728157            0.988903\n",
       "Validation   0.734212             1.405142            3.945546"
      ]
     },
     "metadata": {},
     "output_type": "display_data"
    },
    {
     "data": {
      "text/html": [
       "<div>\n",
       "<style scoped>\n",
       "    .dataframe tbody tr th:only-of-type {\n",
       "        vertical-align: middle;\n",
       "    }\n",
       "\n",
       "    .dataframe tbody tr th {\n",
       "        vertical-align: top;\n",
       "    }\n",
       "\n",
       "    .dataframe thead th {\n",
       "        text-align: right;\n",
       "    }\n",
       "</style>\n",
       "<table border=\"1\" class=\"dataframe\">\n",
       "  <thead>\n",
       "    <tr style=\"text-align: right;\">\n",
       "      <th></th>\n",
       "      <th>Prediction</th>\n",
       "      <th>Real</th>\n",
       "      <th>Error</th>\n",
       "    </tr>\n",
       "  </thead>\n",
       "  <tbody>\n",
       "    <tr>\n",
       "      <th>5193</th>\n",
       "      <td>5.950659</td>\n",
       "      <td>7.0</td>\n",
       "      <td>1.049341</td>\n",
       "    </tr>\n",
       "    <tr>\n",
       "      <th>1680</th>\n",
       "      <td>8.315304</td>\n",
       "      <td>9.0</td>\n",
       "      <td>0.684696</td>\n",
       "    </tr>\n",
       "    <tr>\n",
       "      <th>5074</th>\n",
       "      <td>7.853639</td>\n",
       "      <td>7.0</td>\n",
       "      <td>0.853639</td>\n",
       "    </tr>\n",
       "    <tr>\n",
       "      <th>4421</th>\n",
       "      <td>5.179794</td>\n",
       "      <td>5.0</td>\n",
       "      <td>0.179794</td>\n",
       "    </tr>\n",
       "    <tr>\n",
       "      <th>2152</th>\n",
       "      <td>7.484571</td>\n",
       "      <td>8.0</td>\n",
       "      <td>0.515429</td>\n",
       "    </tr>\n",
       "    <tr>\n",
       "      <th>267</th>\n",
       "      <td>9.945099</td>\n",
       "      <td>9.0</td>\n",
       "      <td>0.945099</td>\n",
       "    </tr>\n",
       "    <tr>\n",
       "      <th>6286</th>\n",
       "      <td>6.389789</td>\n",
       "      <td>8.0</td>\n",
       "      <td>1.610211</td>\n",
       "    </tr>\n",
       "    <tr>\n",
       "      <th>743</th>\n",
       "      <td>6.017738</td>\n",
       "      <td>9.0</td>\n",
       "      <td>2.982262</td>\n",
       "    </tr>\n",
       "    <tr>\n",
       "      <th>1197</th>\n",
       "      <td>6.118251</td>\n",
       "      <td>5.0</td>\n",
       "      <td>1.118251</td>\n",
       "    </tr>\n",
       "    <tr>\n",
       "      <th>7049</th>\n",
       "      <td>16.523308</td>\n",
       "      <td>16.0</td>\n",
       "      <td>0.523308</td>\n",
       "    </tr>\n",
       "  </tbody>\n",
       "</table>\n",
       "</div>"
      ],
      "text/plain": [
       "      Prediction  Real     Error\n",
       "5193    5.950659   7.0  1.049341\n",
       "1680    8.315304   9.0  0.684696\n",
       "5074    7.853639   7.0  0.853639\n",
       "4421    5.179794   5.0  0.179794\n",
       "2152    7.484571   8.0  0.515429\n",
       "267     9.945099   9.0  0.945099\n",
       "6286    6.389789   8.0  1.610211\n",
       "743     6.017738   9.0  2.982262\n",
       "1197    6.118251   5.0  1.118251\n",
       "7049   16.523308  16.0  0.523308"
      ]
     },
     "metadata": {},
     "output_type": "display_data"
    }
   ],
   "source": [
    "regressor = xgb.XGBRegressor(random_state=42)\n",
    "\n",
    "regressor.fit(X_train, y_train)\n",
    "\n",
    "y_train_variable_select = regressor.predict(X_train)\n",
    "y_valid_variable_select = regressor.predict(X_valid)\n",
    "\n",
    "display_evaluation_errors(y_train, y_train_variable_select, y_valid, y_valid_variable_select)\n",
    "display_evaluation_table(y_valid, y_valid_variable_select)"
   ]
  },
  {
   "cell_type": "markdown",
   "metadata": {
    "id": "_cg0m3cjG6nf"
   },
   "source": [
    "## Tuning de hiperparametros\n",
    "\n",
    "Existen varias formas de hacer tuneo de hiperparametros, la mejor opcion dependera del costo computacional del modelo y las limitacion en tiempos o recursos que tengamos.\n",
    "\n",
    "Lo primero que debemos definir es un espacio de busqueda, en nuestro caso el modelo cuenta con numerosos hiperparametros, pero utilizarlos a todos representaria un espacio de busqueda muy grande y por ende un costo computacional muy grande.\n",
    "\n",
    "Consultando la documentacion seleccione entre 3 y 5 parametros de XGBoost y defina un espacio de busqueda que pueda ser utilizado por sklearn.\n",
    "\n",
    "\n",
    "\n",
    "\n"
   ]
  },
  {
   "cell_type": "code",
   "execution_count": 15,
   "metadata": {
    "id": "j_nz8KccZ8op"
   },
   "outputs": [],
   "source": [
    "space = {\n",
    "    'max_depth' : range(2,10,2),\n",
    "    'n_estimators' : [100, 200, 300, 400, 500], \n",
    "    'learning_rate' : [0.0001, 0.001, 0.01, 0.1, 0.2, 0.3],\n",
    "    'booster' : ['gbtree','dart']\n",
    "}"
   ]
  },
  {
   "cell_type": "code",
   "execution_count": 16,
   "metadata": {},
   "outputs": [],
   "source": [
    "regressor = xgb.XGBRegressor()"
   ]
  },
  {
   "cell_type": "markdown",
   "metadata": {
    "id": "-g8afD4lZ9Bb"
   },
   "source": [
    "\n",
    "### Random search\n",
    "\n",
    "Una opcion es una busqueda de hiperparametros sobre un espacio de forma aleatorea. Esta opcion en un principio no nos garantiza encontrar la mejor combinacion sin embargo tiene la ventaja de necesitar muchas menos iteraciones.\n",
    "\n",
    "Utilize la funcion de sklearn.model_selection.RandomizedSearchCV para realizar una busqueda de hiperpatametros."
   ]
  },
  {
   "cell_type": "code",
   "execution_count": 25,
   "metadata": {
    "id": "4qavZpSpaGqO"
   },
   "outputs": [
    {
     "data": {
      "text/plain": [
       "{'n_estimators': 500,\n",
       " 'max_depth': 6,\n",
       " 'learning_rate': 0.1,\n",
       " 'booster': 'gbtree'}"
      ]
     },
     "execution_count": 25,
     "metadata": {},
     "output_type": "execute_result"
    }
   ],
   "source": [
    "from sklearn.model_selection import RandomizedSearchCV\n",
    "model = RandomizedSearchCV(XGBregressor, space, random_state=0)\n",
    "random = model.fit(X_train, y_train)"
   ]
  },
  {
   "cell_type": "code",
   "execution_count": 26,
   "metadata": {},
   "outputs": [
    {
     "name": "stdout",
     "output_type": "stream",
     "text": [
      "Our best hyperparameters:\n"
     ]
    },
    {
     "data": {
      "text/plain": [
       "{'n_estimators': 500,\n",
       " 'max_depth': 6,\n",
       " 'learning_rate': 0.1,\n",
       " 'booster': 'gbtree'}"
      ]
     },
     "execution_count": 26,
     "metadata": {},
     "output_type": "execute_result"
    }
   ],
   "source": [
    "print('Our best hyperparameters:')\n",
    "random.best_params_"
   ]
  },
  {
   "cell_type": "markdown",
   "metadata": {
    "id": "76dT62IVaHAu"
   },
   "source": [
    "### Grid search\n",
    "\n",
    "Cuando queremos agotar las posibilidades de busqueda podemos realizar una busqueda de todas las combinaciones de parametros posibles, esto se denomina Grid Search.\n",
    "\n",
    "Utilize la funcion de sklearn.model_selection.GridSearchCV para realizar una busqueda de hiperpatametros."
   ]
  },
  {
   "cell_type": "code",
   "execution_count": 34,
   "metadata": {
    "id": "SE_Zmmwbaojm"
   },
   "outputs": [
    {
     "data": {
      "text/plain": [
       "{'booster': 'gbtree', 'learning_rate': 0.1, 'n_estimators': 500}"
      ]
     },
     "execution_count": 34,
     "metadata": {},
     "output_type": "execute_result"
    }
   ],
   "source": [
    "# from sklearn.model_selection import GridSearchCV\n",
    "# model = GridSearchCV(XGBregressor, space)\n",
    "# grid_model = model.fit(X_train, y_train)\n",
    "# grid_model.best_params_"
   ]
  },
  {
   "cell_type": "markdown",
   "metadata": {
    "id": "t5KLZi6ja6P6"
   },
   "source": [
    "### Metodos Avanzados, Optimizacion Bayesiana.\n",
    "\n",
    "Existen metodos mas avanzados de busqueda de hiperparametros, uno de ellos utiliza metodos bayesianos para dirigir la busqueda de modo que esta se realize de manera mas eficiente.\n",
    "\n",
    "Una forma de implementar esto facilmente en python es utilizando la libreria hyperopt. A continuacion se presenta un template para utilizar las misma.\n",
    "\n",
    "Pueden encontrar mas informacion en: \n",
    "https://hyperopt.github.io/hyperopt/?source=post_page\n"
   ]
  },
  {
   "cell_type": "code",
   "execution_count": 17,
   "metadata": {},
   "outputs": [
    {
     "name": "stdout",
     "output_type": "stream",
     "text": [
      "100%|██████████| 100/100 [01:26<00:00,  1.16trial/s, best loss: 1.2843494890320977]\n",
      "The best hyperparameters are:\n",
      "\n",
      "{'booster': 0, 'learning_rate': 0.14862368493874703, 'max_depth': 9, 'n_estimators': 19}\n"
     ]
    }
   ],
   "source": [
    "# Definir espacio de búsqueda.\n",
    "space = {\n",
    "    'n_estimators': 10 + hp.randint('n_estimators', 20),\n",
    "    'max_depth': 10 + hp.randint('max_depth', 20),\n",
    "    'learning_rate': hp.uniform('learning_rate', 0.1, 1.0),\n",
    "    'booster' : hp.choice('booster', ['gbtree', 'dart']),\n",
    "}\n",
    "\n",
    "\n",
    "def objective(space):\n",
    "    \"\"\"\n",
    "    Función objetivo (para optimizar).\n",
    "    \"\"\"\n",
    "    regressor = xgb.XGBRegressor(**space)\n",
    "\n",
    "    evaluation = [(X_train, y_train), (X_valid, y_valid)]\n",
    "\n",
    "    regressor.fit(\n",
    "        X_train,\n",
    "        y_train,\n",
    "        eval_set=evaluation,\n",
    "        eval_metric='mae',\n",
    "        early_stopping_rounds=10,\n",
    "        verbose=False,\n",
    "    )\n",
    "\n",
    "    y_valid_pred = regressor.predict(X_valid)\n",
    "    error = mean_absolute_error(y_valid, y_valid_pred)\n",
    "\n",
    "    return {\n",
    "        'loss': error,\n",
    "        'status': STATUS_OK,\n",
    "        'regressor': regressor\n",
    "    }\n",
    "\n",
    "\n",
    "# Correr optimización\n",
    "trials = Trials()\n",
    "best_hyperparams = fmin(\n",
    "    fn=objective,\n",
    "    space=space,\n",
    "    algo=tpe.suggest,\n",
    "    max_evals=100,\n",
    "    trials=trials\n",
    ")\n",
    "\n",
    "print('The best hyperparameters are:\\n')\n",
    "print(best_hyperparams)"
   ]
  },
  {
   "cell_type": "code",
   "execution_count": 18,
   "metadata": {},
   "outputs": [
    {
     "data": {
      "text/html": [
       "<div>\n",
       "<style scoped>\n",
       "    .dataframe tbody tr th:only-of-type {\n",
       "        vertical-align: middle;\n",
       "    }\n",
       "\n",
       "    .dataframe tbody tr th {\n",
       "        vertical-align: top;\n",
       "    }\n",
       "\n",
       "    .dataframe thead th {\n",
       "        text-align: right;\n",
       "    }\n",
       "</style>\n",
       "<table border=\"1\" class=\"dataframe\">\n",
       "  <thead>\n",
       "    <tr style=\"text-align: right;\">\n",
       "      <th></th>\n",
       "      <th>R squared</th>\n",
       "      <th>Mean absolute error</th>\n",
       "      <th>Mean squared error</th>\n",
       "    </tr>\n",
       "  </thead>\n",
       "  <tbody>\n",
       "    <tr>\n",
       "      <th>Training</th>\n",
       "      <td>0.995289</td>\n",
       "      <td>0.162978</td>\n",
       "      <td>0.070402</td>\n",
       "    </tr>\n",
       "    <tr>\n",
       "      <th>Validation</th>\n",
       "      <td>0.735472</td>\n",
       "      <td>1.284349</td>\n",
       "      <td>3.926851</td>\n",
       "    </tr>\n",
       "  </tbody>\n",
       "</table>\n",
       "</div>"
      ],
      "text/plain": [
       "            R squared  Mean absolute error  Mean squared error\n",
       "Training     0.995289             0.162978            0.070402\n",
       "Validation   0.735472             1.284349            3.926851"
      ]
     },
     "metadata": {},
     "output_type": "display_data"
    },
    {
     "data": {
      "text/html": [
       "<div>\n",
       "<style scoped>\n",
       "    .dataframe tbody tr th:only-of-type {\n",
       "        vertical-align: middle;\n",
       "    }\n",
       "\n",
       "    .dataframe tbody tr th {\n",
       "        vertical-align: top;\n",
       "    }\n",
       "\n",
       "    .dataframe thead th {\n",
       "        text-align: right;\n",
       "    }\n",
       "</style>\n",
       "<table border=\"1\" class=\"dataframe\">\n",
       "  <thead>\n",
       "    <tr style=\"text-align: right;\">\n",
       "      <th></th>\n",
       "      <th>Prediction</th>\n",
       "      <th>Real</th>\n",
       "      <th>Error</th>\n",
       "    </tr>\n",
       "  </thead>\n",
       "  <tbody>\n",
       "    <tr>\n",
       "      <th>8645</th>\n",
       "      <td>5.080024</td>\n",
       "      <td>7.0</td>\n",
       "      <td>1.919976</td>\n",
       "    </tr>\n",
       "    <tr>\n",
       "      <th>4840</th>\n",
       "      <td>2.124241</td>\n",
       "      <td>3.0</td>\n",
       "      <td>0.875759</td>\n",
       "    </tr>\n",
       "    <tr>\n",
       "      <th>970</th>\n",
       "      <td>8.956303</td>\n",
       "      <td>12.0</td>\n",
       "      <td>3.043697</td>\n",
       "    </tr>\n",
       "    <tr>\n",
       "      <th>5402</th>\n",
       "      <td>3.954289</td>\n",
       "      <td>4.0</td>\n",
       "      <td>0.045711</td>\n",
       "    </tr>\n",
       "    <tr>\n",
       "      <th>5040</th>\n",
       "      <td>1.990135</td>\n",
       "      <td>2.0</td>\n",
       "      <td>0.009865</td>\n",
       "    </tr>\n",
       "    <tr>\n",
       "      <th>4661</th>\n",
       "      <td>4.448741</td>\n",
       "      <td>8.0</td>\n",
       "      <td>3.551259</td>\n",
       "    </tr>\n",
       "    <tr>\n",
       "      <th>4631</th>\n",
       "      <td>3.208540</td>\n",
       "      <td>7.0</td>\n",
       "      <td>3.791460</td>\n",
       "    </tr>\n",
       "    <tr>\n",
       "      <th>1188</th>\n",
       "      <td>6.618188</td>\n",
       "      <td>9.5</td>\n",
       "      <td>2.881812</td>\n",
       "    </tr>\n",
       "    <tr>\n",
       "      <th>2602</th>\n",
       "      <td>10.214306</td>\n",
       "      <td>13.0</td>\n",
       "      <td>2.785694</td>\n",
       "    </tr>\n",
       "    <tr>\n",
       "      <th>6671</th>\n",
       "      <td>15.770124</td>\n",
       "      <td>16.0</td>\n",
       "      <td>0.229876</td>\n",
       "    </tr>\n",
       "  </tbody>\n",
       "</table>\n",
       "</div>"
      ],
      "text/plain": [
       "      Prediction  Real     Error\n",
       "8645    5.080024   7.0  1.919976\n",
       "4840    2.124241   3.0  0.875759\n",
       "970     8.956303  12.0  3.043697\n",
       "5402    3.954289   4.0  0.045711\n",
       "5040    1.990135   2.0  0.009865\n",
       "4661    4.448741   8.0  3.551259\n",
       "4631    3.208540   7.0  3.791460\n",
       "1188    6.618188   9.5  2.881812\n",
       "2602   10.214306  13.0  2.785694\n",
       "6671   15.770124  16.0  0.229876"
      ]
     },
     "metadata": {},
     "output_type": "display_data"
    },
    {
     "data": {
      "image/png": "[encoded data removed]",
      "text/plain": [
       "<Figure size 576x396 with 2 Axes>"
      ]
     },
     "metadata": {},
     "output_type": "display_data"
    },
    {
     "name": "stderr",
     "output_type": "stream",
     "text": [
      "/Users/brandonjanes/Desktop/AprendizajeAutomatico-/utils.py:60: UserWarning: Matplotlib is currently using module://ipykernel.pylab.backend_inline, which is a non-GUI backend, so cannot show the figure.\n",
      "  qq_plot.show()\n"
     ]
    },
    {
     "data": {
      "image/png": "[encoded data removed]",
      "text/plain": [
       "<Figure size 576x396 with 1 Axes>"
      ]
     },
     "metadata": {},
     "output_type": "display_data"
    }
   ],
   "source": [
    "regressor = trials.best_trial['result']['regressor']\n",
    "y_train_optimized = regressor.predict(X_train)\n",
    "y_valid_optimized = regressor.predict(X_valid)\n",
    "\n",
    "display_evaluation_errors(y_train, y_train_optimized, y_valid, y_valid_optimized)\n",
    "display_evaluation_table(y_valid, y_valid_optimized)\n",
    "show_residuals_plot(regressor, X_train, y_train, X_valid, y_valid)\n",
    "show_qq_plot(y_valid, y_valid_pred)"
   ]
  },
  {
   "cell_type": "markdown",
   "metadata": {
    "id": "hOGSm-n-dmZS"
   },
   "source": [
    "## Comparacion\n",
    "\n",
    "Realize una tabla comparativa de los resultados obtenidos entre:\n",
    "\n",
    "- Modelo con hiperparametros por default sin seleccion de variables\n",
    "- Modelo con hiperparametros por default con seleccion de variables\n",
    "- Modelo con optimizacion de hiperparametros por cada metodo\n",
    "\n",
    "En base a los resultados exponga sus observacion relacionada tanto con la performance del modelo como de los tiempos de ejecucion."
   ]
  },
  {
   "cell_type": "code",
   "execution_count": 19,
   "metadata": {
    "id": "HoXI1T65e_lk"
   },
   "outputs": [
    {
     "name": "stdout",
     "output_type": "stream",
     "text": [
      "Modelo con hiperparametros por default sin seleccion de variables\n"
     ]
    },
    {
     "data": {
      "text/html": [
       "<div>\n",
       "<style scoped>\n",
       "    .dataframe tbody tr th:only-of-type {\n",
       "        vertical-align: middle;\n",
       "    }\n",
       "\n",
       "    .dataframe tbody tr th {\n",
       "        vertical-align: top;\n",
       "    }\n",
       "\n",
       "    .dataframe thead th {\n",
       "        text-align: right;\n",
       "    }\n",
       "</style>\n",
       "<table border=\"1\" class=\"dataframe\">\n",
       "  <thead>\n",
       "    <tr style=\"text-align: right;\">\n",
       "      <th></th>\n",
       "      <th>R squared</th>\n",
       "      <th>Mean absolute error</th>\n",
       "      <th>Mean squared error</th>\n",
       "    </tr>\n",
       "  </thead>\n",
       "  <tbody>\n",
       "    <tr>\n",
       "      <th>Training</th>\n",
       "      <td>0.950245</td>\n",
       "      <td>0.636998</td>\n",
       "      <td>0.743569</td>\n",
       "    </tr>\n",
       "    <tr>\n",
       "      <th>Validation</th>\n",
       "      <td>0.729571</td>\n",
       "      <td>1.473470</td>\n",
       "      <td>4.014440</td>\n",
       "    </tr>\n",
       "  </tbody>\n",
       "</table>\n",
       "</div>"
      ],
      "text/plain": [
       "            R squared  Mean absolute error  Mean squared error\n",
       "Training     0.950245             0.636998            0.743569\n",
       "Validation   0.729571             1.473470            4.014440"
      ]
     },
     "metadata": {},
     "output_type": "display_data"
    },
    {
     "name": "stdout",
     "output_type": "stream",
     "text": [
      "Modelo con hiperparametros por default con seleccion de variables\n"
     ]
    },
    {
     "data": {
      "text/html": [
       "<div>\n",
       "<style scoped>\n",
       "    .dataframe tbody tr th:only-of-type {\n",
       "        vertical-align: middle;\n",
       "    }\n",
       "\n",
       "    .dataframe tbody tr th {\n",
       "        vertical-align: top;\n",
       "    }\n",
       "\n",
       "    .dataframe thead th {\n",
       "        text-align: right;\n",
       "    }\n",
       "</style>\n",
       "<table border=\"1\" class=\"dataframe\">\n",
       "  <thead>\n",
       "    <tr style=\"text-align: right;\">\n",
       "      <th></th>\n",
       "      <th>R squared</th>\n",
       "      <th>Mean absolute error</th>\n",
       "      <th>Mean squared error</th>\n",
       "    </tr>\n",
       "  </thead>\n",
       "  <tbody>\n",
       "    <tr>\n",
       "      <th>Training</th>\n",
       "      <td>0.933829</td>\n",
       "      <td>0.728157</td>\n",
       "      <td>0.988903</td>\n",
       "    </tr>\n",
       "    <tr>\n",
       "      <th>Validation</th>\n",
       "      <td>0.734212</td>\n",
       "      <td>1.405142</td>\n",
       "      <td>3.945546</td>\n",
       "    </tr>\n",
       "  </tbody>\n",
       "</table>\n",
       "</div>"
      ],
      "text/plain": [
       "            R squared  Mean absolute error  Mean squared error\n",
       "Training     0.933829             0.728157            0.988903\n",
       "Validation   0.734212             1.405142            3.945546"
      ]
     },
     "metadata": {},
     "output_type": "display_data"
    },
    {
     "name": "stdout",
     "output_type": "stream",
     "text": [
      "Modelo con optimizacion de hiperparametros por cada metodo\n"
     ]
    },
    {
     "data": {
      "text/html": [
       "<div>\n",
       "<style scoped>\n",
       "    .dataframe tbody tr th:only-of-type {\n",
       "        vertical-align: middle;\n",
       "    }\n",
       "\n",
       "    .dataframe tbody tr th {\n",
       "        vertical-align: top;\n",
       "    }\n",
       "\n",
       "    .dataframe thead th {\n",
       "        text-align: right;\n",
       "    }\n",
       "</style>\n",
       "<table border=\"1\" class=\"dataframe\">\n",
       "  <thead>\n",
       "    <tr style=\"text-align: right;\">\n",
       "      <th></th>\n",
       "      <th>R squared</th>\n",
       "      <th>Mean absolute error</th>\n",
       "      <th>Mean squared error</th>\n",
       "    </tr>\n",
       "  </thead>\n",
       "  <tbody>\n",
       "    <tr>\n",
       "      <th>Training</th>\n",
       "      <td>0.995289</td>\n",
       "      <td>0.162978</td>\n",
       "      <td>0.070402</td>\n",
       "    </tr>\n",
       "    <tr>\n",
       "      <th>Validation</th>\n",
       "      <td>0.735472</td>\n",
       "      <td>1.284349</td>\n",
       "      <td>3.926851</td>\n",
       "    </tr>\n",
       "  </tbody>\n",
       "</table>\n",
       "</div>"
      ],
      "text/plain": [
       "            R squared  Mean absolute error  Mean squared error\n",
       "Training     0.995289             0.162978            0.070402\n",
       "Validation   0.735472             1.284349            3.926851"
      ]
     },
     "metadata": {},
     "output_type": "display_data"
    }
   ],
   "source": [
    "#table = pd.DataFrame()\n",
    "print('Modelo con hiperparametros por default sin seleccion de variables')\n",
    "display_evaluation_errors(y_train, y_train_baseline, y_valid, y_valid_baseline)\n",
    "print('Modelo con hiperparametros por default con seleccion de variables')\n",
    "display_evaluation_errors(y_train, y_train_variable_select, y_valid, y_valid_variable_select)\n",
    "print('Modelo con optimizacion de hiperparametros por cada metodo')\n",
    "display_evaluation_errors(y_train, y_train_optimized, y_valid, y_valid_optimized)"
   ]
  },
  {
   "cell_type": "markdown",
   "metadata": {
    "id": "C5hfsfnEfu4z"
   },
   "source": [
    "# Aprendizaje Automático No Supervisado\n",
    "\n",
    "### Clusterizacion como metodo de generacion de features\n",
    "\n",
    "Vamos a utilizar a la clusterización como método de generacion de features y posteriormente vamos a correr los modelos de predicción.\n",
    "\n",
    "Basandose en el algoritmo de KMeans, aplique el metodo de codo (elbow) para estimar la cantidad optima de clusters. \n",
    "\n",
    "(Opcional) En caso de que la clusterizacion este demorando mucho en ejecutarse puede aplicarse PCA en un paso previo para disminuir las dimensiones."
   ]
  },
  {
   "cell_type": "code",
   "execution_count": 20,
   "metadata": {
    "id": "0rh04QSsgo15"
   },
   "outputs": [],
   "source": [
    "from sklearn.cluster import KMeans\n",
    "from tqdm import tqdm_notebook"
   ]
  },
  {
   "cell_type": "code",
   "execution_count": 41,
   "metadata": {},
   "outputs": [
    {
     "data": {
      "text/plain": [
       "((6183, 34), (2650, 34))"
      ]
     },
     "execution_count": 41,
     "metadata": {},
     "output_type": "execute_result"
    }
   ],
   "source": [
    "X_train.shape, X_valid.shape"
   ]
  },
  {
   "cell_type": "code",
   "execution_count": 42,
   "metadata": {},
   "outputs": [
    {
     "data": {
      "text/plain": [
       "Index(['TR_S_connection_age_days', 'SUB_is_SEITI', 'FAS_CON_P_is_AB',\n",
       "       'CTMT_is_1_SETMG_1', 'ARE_LOC_is_NU', 'CTMT_is_3_SEEST_1',\n",
       "       'CTMT_is_5_SEEST_1', 'ENDNODE', 'CTMT_is_3_SESAQ_1',\n",
       "       'CTMT_is_3_SETMG_1', 'CTMT_is_2_SEEST_1', 'CTMT_is_2_SETMG_1',\n",
       "       'CTMT_is_1_SEITI_1', 'CTMT_is_2_SECON_1', 'CTMT_is_2_SEITI_1',\n",
       "       'dist_to_trs_dijkstra', 'CTMT_is_4_SEITI_1', 'CTMT_is_3_SEAUA_1',\n",
       "       'CTMT_is_6_SEEST_1', 'TR_S_POT_NOM', 'CTMT_is_2_SESAQ_1',\n",
       "       'CTMT_is_3_SEITI_1', 'MUN', 'TR_S_DIST', 'NODE', 'PER_FER',\n",
       "       'CTMT_is_4_SEAUA_1', 'CTMT_is_3_SECON_1', 'TR_S_MUN', 'CNAE_is_0',\n",
       "       'connection_age_days', 'PAC_3_known', 'ENE_11', 'ENE_03'],\n",
       "      dtype='object')"
      ]
     },
     "execution_count": 42,
     "metadata": {},
     "output_type": "execute_result"
    }
   ],
   "source": [
    "tmp = [X_train, X_valid]\n",
    "full_df = pd.concat(tmp)\n",
    "full_df.columns"
   ]
  },
  {
   "cell_type": "code",
   "execution_count": 43,
   "metadata": {
    "id": "AHtbCgT-gpMi"
   },
   "outputs": [],
   "source": [
    "# See https://scikit-learn.org/stable/modules/generated/sklearn.cluster.KMeans.html\n",
    "def clustering(v, n_clusters, n_iter):\n",
    "    kmeans = KMeans(n_clusters=n_clusters, max_iter=n_iter, random_state=256)\n",
    "    kmeans.fit(v)\n",
    "    v_labels = kmeans.predict(v)\n",
    "    return kmeans, v_labels"
   ]
  },
  {
   "cell_type": "code",
   "execution_count": 23,
   "metadata": {
    "id": "7zY6QIT-gpdE"
   },
   "outputs": [],
   "source": [
    "def elbowMethod(ka, kb, v_rd):\n",
    "    Sum_of_squared_distances = []\n",
    "    K = range(ka, kb, 5)\n",
    "    for k in tqdm_notebook(K):\n",
    "        km = KMeans(n_clusters=k)\n",
    "        km = km.fit(v_rd)\n",
    "        Sum_of_squared_distances.append(km.inertia_)\n",
    "    \n",
    "    plt.plot(K, Sum_of_squared_distances, 'ro-', markersize=8, lw=2)\n",
    "    plt.xlabel('number of clusters')\n",
    "    plt.ylabel('Sum of squared distances')\n",
    "    plt.title('Elbow Method For Optimal k')\n",
    "    plt.savefig('elbow.png')\n",
    "    plt.show()"
   ]
  },
  {
   "cell_type": "markdown",
   "metadata": {
    "id": "uIwTiogQgpVW"
   },
   "source": [
    "Integre los clusters al dataset de training y vuelva a correr a entrenar el algoritmo de deteccion de mejor rendimiento."
   ]
  },
  {
   "cell_type": "code",
   "execution_count": 24,
   "metadata": {
    "id": "0lyfryL5kUk0"
   },
   "outputs": [
    {
     "name": "stderr",
     "output_type": "stream",
     "text": [
      "/Users/brandonjanes/miniconda2/envs/inf/lib/python3.7/site-packages/ipykernel_launcher.py:4: TqdmDeprecationWarning: This function will be removed in tqdm==5.0.0\n",
      "Please use `tqdm.notebook.tqdm` instead of `tqdm.tqdm_notebook`\n",
      "  after removing the cwd from sys.path.\n"
     ]
    },
    {
     "data": {
      "application/vnd.jupyter.widget-view+json": {
       "model_id": "6f1270bb33024df1b4ce4ca13282915a",
       "version_major": 2,
       "version_minor": 0
      },
      "text/plain": [
       "HBox(children=(FloatProgress(value=0.0, max=22.0), HTML(value='')))"
      ]
     },
     "metadata": {},
     "output_type": "display_data"
    },
    {
     "name": "stdout",
     "output_type": "stream",
     "text": [
      "\n"
     ]
    },
    {
     "data": {
      "image/png": "[encoded data removed]",
      "text/plain": [
       "<Figure size 576x396 with 1 Axes>"
      ]
     },
     "metadata": {},
     "output_type": "display_data"
    }
   ],
   "source": [
    "elbowMethod(60, 170, full_df)"
   ]
  },
  {
   "cell_type": "code",
   "execution_count": 44,
   "metadata": {},
   "outputs": [],
   "source": [
    "# clustering without dimensionality reduction\n",
    "kmeans, labels = clustering(full_df, 82, 250)"
   ]
  },
  {
   "cell_type": "code",
   "execution_count": 46,
   "metadata": {},
   "outputs": [
    {
     "data": {
      "text/plain": [
       "(8833, 35)"
      ]
     },
     "execution_count": 46,
     "metadata": {},
     "output_type": "execute_result"
    }
   ],
   "source": [
    "full_df['cluster'] = labels\n",
    "full_df.shape"
   ]
  },
  {
   "cell_type": "code",
   "execution_count": 52,
   "metadata": {},
   "outputs": [
    {
     "data": {
      "text/plain": [
       "((6183, 35), (2650, 35))"
      ]
     },
     "execution_count": 52,
     "metadata": {},
     "output_type": "execute_result"
    }
   ],
   "source": [
    "X_train_new = full_df[:6183]\n",
    "X_valid_new = full_df[-2650:]\n",
    "X_train_new.shape, X_valid_new.shape"
   ]
  },
  {
   "cell_type": "markdown",
   "metadata": {
    "id": "b7BPkcMQhZcY"
   },
   "source": [
    "Compare los resultados obtenidos."
   ]
  },
  {
   "cell_type": "code",
   "execution_count": 54,
   "metadata": {},
   "outputs": [
    {
     "data": {
      "text/html": [
       "<div>\n",
       "<style scoped>\n",
       "    .dataframe tbody tr th:only-of-type {\n",
       "        vertical-align: middle;\n",
       "    }\n",
       "\n",
       "    .dataframe tbody tr th {\n",
       "        vertical-align: top;\n",
       "    }\n",
       "\n",
       "    .dataframe thead th {\n",
       "        text-align: right;\n",
       "    }\n",
       "</style>\n",
       "<table border=\"1\" class=\"dataframe\">\n",
       "  <thead>\n",
       "    <tr style=\"text-align: right;\">\n",
       "      <th></th>\n",
       "      <th>R squared</th>\n",
       "      <th>Mean absolute error</th>\n",
       "      <th>Mean squared error</th>\n",
       "    </tr>\n",
       "  </thead>\n",
       "  <tbody>\n",
       "    <tr>\n",
       "      <th>Training</th>\n",
       "      <td>0.933433</td>\n",
       "      <td>0.730985</td>\n",
       "      <td>0.994816</td>\n",
       "    </tr>\n",
       "    <tr>\n",
       "      <th>Validation</th>\n",
       "      <td>0.736565</td>\n",
       "      <td>1.410708</td>\n",
       "      <td>3.910624</td>\n",
       "    </tr>\n",
       "  </tbody>\n",
       "</table>\n",
       "</div>"
      ],
      "text/plain": [
       "            R squared  Mean absolute error  Mean squared error\n",
       "Training     0.933433             0.730985            0.994816\n",
       "Validation   0.736565             1.410708            3.910624"
      ]
     },
     "metadata": {},
     "output_type": "display_data"
    },
    {
     "data": {
      "text/html": [
       "<div>\n",
       "<style scoped>\n",
       "    .dataframe tbody tr th:only-of-type {\n",
       "        vertical-align: middle;\n",
       "    }\n",
       "\n",
       "    .dataframe tbody tr th {\n",
       "        vertical-align: top;\n",
       "    }\n",
       "\n",
       "    .dataframe thead th {\n",
       "        text-align: right;\n",
       "    }\n",
       "</style>\n",
       "<table border=\"1\" class=\"dataframe\">\n",
       "  <thead>\n",
       "    <tr style=\"text-align: right;\">\n",
       "      <th></th>\n",
       "      <th>Prediction</th>\n",
       "      <th>Real</th>\n",
       "      <th>Error</th>\n",
       "    </tr>\n",
       "  </thead>\n",
       "  <tbody>\n",
       "    <tr>\n",
       "      <th>8593</th>\n",
       "      <td>6.259551</td>\n",
       "      <td>6.0</td>\n",
       "      <td>0.259551</td>\n",
       "    </tr>\n",
       "    <tr>\n",
       "      <th>8381</th>\n",
       "      <td>7.007822</td>\n",
       "      <td>6.0</td>\n",
       "      <td>1.007822</td>\n",
       "    </tr>\n",
       "    <tr>\n",
       "      <th>221</th>\n",
       "      <td>13.049343</td>\n",
       "      <td>15.0</td>\n",
       "      <td>1.950657</td>\n",
       "    </tr>\n",
       "    <tr>\n",
       "      <th>214</th>\n",
       "      <td>14.353808</td>\n",
       "      <td>16.0</td>\n",
       "      <td>1.646192</td>\n",
       "    </tr>\n",
       "    <tr>\n",
       "      <th>7778</th>\n",
       "      <td>13.211265</td>\n",
       "      <td>15.0</td>\n",
       "      <td>1.788735</td>\n",
       "    </tr>\n",
       "    <tr>\n",
       "      <th>3105</th>\n",
       "      <td>7.943699</td>\n",
       "      <td>7.0</td>\n",
       "      <td>0.943699</td>\n",
       "    </tr>\n",
       "    <tr>\n",
       "      <th>8628</th>\n",
       "      <td>8.488384</td>\n",
       "      <td>8.0</td>\n",
       "      <td>0.488384</td>\n",
       "    </tr>\n",
       "    <tr>\n",
       "      <th>798</th>\n",
       "      <td>3.224571</td>\n",
       "      <td>3.0</td>\n",
       "      <td>0.224571</td>\n",
       "    </tr>\n",
       "    <tr>\n",
       "      <th>7181</th>\n",
       "      <td>2.859622</td>\n",
       "      <td>5.0</td>\n",
       "      <td>2.140378</td>\n",
       "    </tr>\n",
       "    <tr>\n",
       "      <th>7436</th>\n",
       "      <td>13.615056</td>\n",
       "      <td>15.0</td>\n",
       "      <td>1.384944</td>\n",
       "    </tr>\n",
       "  </tbody>\n",
       "</table>\n",
       "</div>"
      ],
      "text/plain": [
       "      Prediction  Real     Error\n",
       "8593    6.259551   6.0  0.259551\n",
       "8381    7.007822   6.0  1.007822\n",
       "221    13.049343  15.0  1.950657\n",
       "214    14.353808  16.0  1.646192\n",
       "7778   13.211265  15.0  1.788735\n",
       "3105    7.943699   7.0  0.943699\n",
       "8628    8.488384   8.0  0.488384\n",
       "798     3.224571   3.0  0.224571\n",
       "7181    2.859622   5.0  2.140378\n",
       "7436   13.615056  15.0  1.384944"
      ]
     },
     "metadata": {},
     "output_type": "display_data"
    }
   ],
   "source": [
    "regressor = xgb.XGBRegressor(random_state=42)\n",
    "\n",
    "regressor = trials.best_trial['result']['regressor']\n",
    "regressor.fit(X_train_new, y_train)\n",
    "\n",
    "y_train_clusters = regressor.predict(X_train_new)\n",
    "y_valid_clusters = regressor.predict(X_valid_new)\n",
    "\n",
    "display_evaluation_errors(y_train, y_train_clusters, y_valid, y_valid_clusters)\n",
    "display_evaluation_table(y_valid, y_valid_clusters)"
   ]
  },
  {
   "cell_type": "code",
   "execution_count": null,
   "metadata": {},
   "outputs": [],
   "source": []
  }
 ],
 "metadata": {
  "colab": {
   "collapsed_sections": [],
   "name": "4_1_TPractico - Aprendizaje Supervisado y No Supervisado.ipynb",
   "provenance": [],
   "toc_visible": true
  },
  "kernelspec": {
   "display_name": "Python 3",
   "language": "python",
   "name": "python3"
  },
  "language_info": {
   "codemirror_mode": {
    "name": "ipython",
    "version": 3
   },
   "file_extension": ".py",
   "mimetype": "text/x-python",
   "name": "python",
   "nbconvert_exporter": "python",
   "pygments_lexer": "ipython3",
   "version": "3.7.7"
  }
 },
 "nbformat": 4,
 "nbformat_minor": 4
}
